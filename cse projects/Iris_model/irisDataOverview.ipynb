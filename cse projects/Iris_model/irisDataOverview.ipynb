{
 "cells": [
  {
   "cell_type": "markdown",
   "id": "550756cc",
   "metadata": {},
   "source": [
    "# Overview of Iris data & Birthday Problem\n",
    "\n",
    "## Part1: Scatter plot as well as histogram plot\n",
    "\n",
    "In this part, I choose the dataset from https://archive.ics.uci.edu/ml/datasets/Iris, where the information of three different Iris classes are included.\n"
   ]
  },
  {
   "cell_type": "code",
   "execution_count": 2,
   "id": "93b56d4c",
   "metadata": {},
   "outputs": [],
   "source": [
    "import numpy as np\n",
    "import pandas as pd\n",
    "import matplotlib.pyplot as plt\n",
    "\n",
    "data = pd.read_csv('/Users/brittt/Desktop/research_ML/iris.data') "
   ]
  },
  {
   "cell_type": "markdown",
   "id": "4bcc1d04",
   "metadata": {},
   "source": [
    "To better understand this dataset, I add the name of columns, which are given by the website."
   ]
  },
  {
   "cell_type": "code",
   "execution_count": 8,
   "id": "3befb072",
   "metadata": {},
   "outputs": [
    {
     "name": "stdout",
     "output_type": "stream",
     "text": [
      "[[4.9 3.  1.4 0.2]\n",
      " [4.7 3.2 1.3 0.2]\n",
      " [4.6 3.1 1.5 0.2]\n",
      " [5.  3.6 1.4 0.2]\n",
      " [5.4 3.9 1.7 0.4]\n",
      " [4.6 3.4 1.4 0.3]\n",
      " [5.  3.4 1.5 0.2]\n",
      " [4.4 2.9 1.4 0.2]\n",
      " [4.9 3.1 1.5 0.1]\n",
      " [5.4 3.7 1.5 0.2]\n",
      " [4.8 3.4 1.6 0.2]\n",
      " [4.8 3.  1.4 0.1]\n",
      " [4.3 3.  1.1 0.1]\n",
      " [5.8 4.  1.2 0.2]\n",
      " [5.7 4.4 1.5 0.4]\n",
      " [5.4 3.9 1.3 0.4]\n",
      " [5.1 3.5 1.4 0.3]\n",
      " [5.7 3.8 1.7 0.3]\n",
      " [5.1 3.8 1.5 0.3]\n",
      " [5.4 3.4 1.7 0.2]\n",
      " [5.1 3.7 1.5 0.4]\n",
      " [4.6 3.6 1.  0.2]\n",
      " [5.1 3.3 1.7 0.5]\n",
      " [4.8 3.4 1.9 0.2]\n",
      " [5.  3.  1.6 0.2]\n",
      " [5.  3.4 1.6 0.4]\n",
      " [5.2 3.5 1.5 0.2]\n",
      " [5.2 3.4 1.4 0.2]\n",
      " [4.7 3.2 1.6 0.2]\n",
      " [4.8 3.1 1.6 0.2]\n",
      " [5.4 3.4 1.5 0.4]\n",
      " [5.2 4.1 1.5 0.1]\n",
      " [5.5 4.2 1.4 0.2]\n",
      " [4.9 3.1 1.5 0.1]\n",
      " [5.  3.2 1.2 0.2]\n",
      " [5.5 3.5 1.3 0.2]\n",
      " [4.9 3.1 1.5 0.1]\n",
      " [4.4 3.  1.3 0.2]\n",
      " [5.1 3.4 1.5 0.2]\n",
      " [5.  3.5 1.3 0.3]\n",
      " [4.5 2.3 1.3 0.3]\n",
      " [4.4 3.2 1.3 0.2]\n",
      " [5.  3.5 1.6 0.6]\n",
      " [5.1 3.8 1.9 0.4]\n",
      " [4.8 3.  1.4 0.3]\n",
      " [5.1 3.8 1.6 0.2]\n",
      " [4.6 3.2 1.4 0.2]\n",
      " [5.3 3.7 1.5 0.2]\n",
      " [5.  3.3 1.4 0.2]\n",
      " [7.  3.2 4.7 1.4]\n",
      " [6.4 3.2 4.5 1.5]\n",
      " [6.9 3.1 4.9 1.5]\n",
      " [5.5 2.3 4.  1.3]\n",
      " [6.5 2.8 4.6 1.5]\n",
      " [5.7 2.8 4.5 1.3]\n",
      " [6.3 3.3 4.7 1.6]\n",
      " [4.9 2.4 3.3 1. ]\n",
      " [6.6 2.9 4.6 1.3]\n",
      " [5.2 2.7 3.9 1.4]\n",
      " [5.  2.  3.5 1. ]\n",
      " [5.9 3.  4.2 1.5]\n",
      " [6.  2.2 4.  1. ]\n",
      " [6.1 2.9 4.7 1.4]\n",
      " [5.6 2.9 3.6 1.3]\n",
      " [6.7 3.1 4.4 1.4]\n",
      " [5.6 3.  4.5 1.5]\n",
      " [5.8 2.7 4.1 1. ]\n",
      " [6.2 2.2 4.5 1.5]\n",
      " [5.6 2.5 3.9 1.1]\n",
      " [5.9 3.2 4.8 1.8]\n",
      " [6.1 2.8 4.  1.3]\n",
      " [6.3 2.5 4.9 1.5]\n",
      " [6.1 2.8 4.7 1.2]\n",
      " [6.4 2.9 4.3 1.3]\n",
      " [6.6 3.  4.4 1.4]\n",
      " [6.8 2.8 4.8 1.4]\n",
      " [6.7 3.  5.  1.7]\n",
      " [6.  2.9 4.5 1.5]\n",
      " [5.7 2.6 3.5 1. ]\n",
      " [5.5 2.4 3.8 1.1]\n",
      " [5.5 2.4 3.7 1. ]\n",
      " [5.8 2.7 3.9 1.2]\n",
      " [6.  2.7 5.1 1.6]\n",
      " [5.4 3.  4.5 1.5]\n",
      " [6.  3.4 4.5 1.6]\n",
      " [6.7 3.1 4.7 1.5]\n",
      " [6.3 2.3 4.4 1.3]\n",
      " [5.6 3.  4.1 1.3]\n",
      " [5.5 2.5 4.  1.3]\n",
      " [5.5 2.6 4.4 1.2]\n",
      " [6.1 3.  4.6 1.4]\n",
      " [5.8 2.6 4.  1.2]\n",
      " [5.  2.3 3.3 1. ]\n",
      " [5.6 2.7 4.2 1.3]\n",
      " [5.7 3.  4.2 1.2]\n",
      " [5.7 2.9 4.2 1.3]\n",
      " [6.2 2.9 4.3 1.3]\n",
      " [5.1 2.5 3.  1.1]\n",
      " [5.7 2.8 4.1 1.3]\n",
      " [6.3 3.3 6.  2.5]\n",
      " [5.8 2.7 5.1 1.9]\n",
      " [7.1 3.  5.9 2.1]\n",
      " [6.3 2.9 5.6 1.8]\n",
      " [6.5 3.  5.8 2.2]\n",
      " [7.6 3.  6.6 2.1]\n",
      " [4.9 2.5 4.5 1.7]\n",
      " [7.3 2.9 6.3 1.8]\n",
      " [6.7 2.5 5.8 1.8]\n",
      " [7.2 3.6 6.1 2.5]\n",
      " [6.5 3.2 5.1 2. ]\n",
      " [6.4 2.7 5.3 1.9]\n",
      " [6.8 3.  5.5 2.1]\n",
      " [5.7 2.5 5.  2. ]\n",
      " [5.8 2.8 5.1 2.4]\n",
      " [6.4 3.2 5.3 2.3]\n",
      " [6.5 3.  5.5 1.8]\n",
      " [7.7 3.8 6.7 2.2]\n",
      " [7.7 2.6 6.9 2.3]\n",
      " [6.  2.2 5.  1.5]\n",
      " [6.9 3.2 5.7 2.3]\n",
      " [5.6 2.8 4.9 2. ]\n",
      " [7.7 2.8 6.7 2. ]\n",
      " [6.3 2.7 4.9 1.8]\n",
      " [6.7 3.3 5.7 2.1]\n",
      " [7.2 3.2 6.  1.8]\n",
      " [6.2 2.8 4.8 1.8]\n",
      " [6.1 3.  4.9 1.8]\n",
      " [6.4 2.8 5.6 2.1]\n",
      " [7.2 3.  5.8 1.6]\n",
      " [7.4 2.8 6.1 1.9]\n",
      " [7.9 3.8 6.4 2. ]\n",
      " [6.4 2.8 5.6 2.2]\n",
      " [6.3 2.8 5.1 1.5]\n",
      " [6.1 2.6 5.6 1.4]\n",
      " [7.7 3.  6.1 2.3]\n",
      " [6.3 3.4 5.6 2.4]\n",
      " [6.4 3.1 5.5 1.8]\n",
      " [6.  3.  4.8 1.8]\n",
      " [6.9 3.1 5.4 2.1]\n",
      " [6.7 3.1 5.6 2.4]\n",
      " [6.9 3.1 5.1 2.3]\n",
      " [5.8 2.7 5.1 1.9]\n",
      " [6.8 3.2 5.9 2.3]\n",
      " [6.7 3.3 5.7 2.5]\n",
      " [6.7 3.  5.2 2.3]\n",
      " [6.3 2.5 5.  1.9]\n",
      " [6.5 3.  5.2 2. ]\n",
      " [6.2 3.4 5.4 2.3]\n",
      " [5.9 3.  5.1 1.8]]\n"
     ]
    }
   ],
   "source": [
    "x = data.iloc[:, [0, 1, 2, 3]].values\n",
    "print(x)"
   ]
  },
  {
   "cell_type": "code",
   "execution_count": 8,
   "id": "ac037efa",
   "metadata": {},
   "outputs": [
    {
     "name": "stdout",
     "output_type": "stream",
     "text": [
      "   seLength  spWidth  peLength  peWidth        class\n",
      "0       4.9      3.0       1.4      0.2  Iris-setosa\n",
      "1       4.7      3.2       1.3      0.2  Iris-setosa\n",
      "2       4.6      3.1       1.5      0.2  Iris-setosa\n",
      "3       5.0      3.6       1.4      0.2  Iris-setosa\n",
      "4       5.4      3.9       1.7      0.4  Iris-setosa\n"
     ]
    }
   ],
   "source": [
    "# dataset attribute: (from left to right)\n",
    "# sepal length, sepal width, petal length, petal width, class\n",
    "data.columns = ['seLength','spWidth','peLength','peWidth','class']\n",
    "print(data.head())"
   ]
  },
  {
   "cell_type": "markdown",
   "id": "45263e37",
   "metadata": {},
   "source": [
    "In the following parts, I mainly discusse one Iris class called Iris Setosa.\n",
    "\n",
    "And I choose two attributes of this Iris class to plot the scatterplot as well as the histogram.\n",
    "\n",
    "From the following plots, we can discover that they are well separated.\n",
    "\n",
    "### Scatter Plot"
   ]
  },
  {
   "cell_type": "code",
   "execution_count": 13,
   "id": "54173a69",
   "metadata": {},
   "outputs": [
    {
     "data": {
      "image/png": "[encoded data removed]",
      "text/plain": [
       "<Figure size 432x288 with 1 Axes>"
      ]
     },
     "metadata": {},
     "output_type": "display_data"
    }
   ],
   "source": [
    "# choose a specific class -- Iris-setosa\n",
    "data2 = data[data['class'] == 'Iris-setosa']\n",
    "# Scatterplot -- x: sepal length; y:spWidth \n",
    "x = data2['seLength']\n",
    "y = data2['spWidth']\n",
    "plt.style.use('seaborn-whitegrid')\n",
    "plt.scatter(x,y)\n",
    "plt.xlabel('Sepal Length')\n",
    "plt.ylabel('Sepal Width')\n",
    "plt.title('Iris-Setota')\n",
    "plt.show()"
   ]
  },
  {
   "cell_type": "markdown",
   "id": "f984481a",
   "metadata": {},
   "source": [
    "### Histogram \n",
    "* Histogram of Sepal Length"
   ]
  },
  {
   "cell_type": "code",
   "execution_count": 35,
   "id": "e967c2b5",
   "metadata": {},
   "outputs": [
    {
     "data": {
      "text/plain": [
       "Text(0.5, 1.0, 'sepal length of Iris-Setota')"
      ]
     },
     "execution_count": 35,
     "metadata": {},
     "output_type": "execute_result"
    },
    {
     "data": {
      "image/png": "[encoded data removed]",
      "text/plain": [
       "<Figure size 432x288 with 1 Axes>"
      ]
     },
     "metadata": {},
     "output_type": "display_data"
    }
   ],
   "source": [
    "# Histogram\n",
    "plt.style.use('seaborn-white')\n",
    "#plt.hist(x)\n",
    "plt.hist(x,bins=30,density = True, alpha = 0.5)\n",
    "plt.title('sepal length of Iris-Setota')"
   ]
  },
  {
   "cell_type": "markdown",
   "id": "eb3f58a8",
   "metadata": {},
   "source": [
    "* Histogram of Sepal Width"
   ]
  },
  {
   "cell_type": "code",
   "execution_count": 33,
   "id": "2693e5b7",
   "metadata": {},
   "outputs": [
    {
     "data": {
      "text/plain": [
       "Text(0.5, 1.0, 'sepal width of Iris-Setota')"
      ]
     },
     "execution_count": 33,
     "metadata": {},
     "output_type": "execute_result"
    },
    {
     "data": {
      "image/png": "[encoded data removed]",
      "text/plain": [
       "<Figure size 432x288 with 1 Axes>"
      ]
     },
     "metadata": {},
     "output_type": "display_data"
    }
   ],
   "source": [
    "# Histogram\n",
    "plt.style.use('seaborn-white')\n",
    "plt.hist(y,bins=30, density = True, alpha = 0.5)\n",
    "plt.title('sepal width of Iris-Setota')"
   ]
  },
  {
   "cell_type": "markdown",
   "id": "ae7e6357",
   "metadata": {},
   "source": [
    "\n",
    "## Birthday Problem\n",
    "\n",
    "Suppose there are $k$ students in the class, and let's say the event that two students have the same birthday is a coincidence. \n",
    "\n",
    "Then the probability of at least one coincidence is equal to $1 - \\frac{365!}{365^k*(365-k)!}$"
   ]
  },
  {
   "cell_type": "code",
   "execution_count": 13,
   "id": "79155e25",
   "metadata": {},
   "outputs": [],
   "source": [
    "## Problem 2 -- Birthday problem\n",
    "# use python to simulate the process\n",
    "# and calculate the probability that two students having the same birthday\n",
    "from random import randint\n",
    "import seaborn as sns\n",
    "\n",
    "num_birthday = 365\n",
    "num_trials = 10000\n",
    "\n",
    "# generate a random list of birthdays from 1 to 365\n",
    "def birth(k):\n",
    "    birthdays = []\n",
    "    for _ in range(k):\n",
    "        random_birthday = randint(1,num_birthday)\n",
    "        birthdays.append(random_birthday)\n",
    "    return birthdays\n",
    "\n",
    "# check whether in this list has same birthdays\n",
    "def coincidence(birthdays):\n",
    "    unique_birth = set(birthdays)\n",
    "    has_coin = (len(unique_birth) != len(birthdays))\n",
    "    return has_coin # return true when do have coincidence\n",
    "\n",
    "def calculate_p(k):\n",
    "    num_coin = 0\n",
    "    for _ in range(num_trials):\n",
    "        birthdays = birth(k)\n",
    "        has_coin = coincidence(birthdays)\n",
    "        if has_coin:\n",
    "            num_coin += 1\n",
    "    prob = num_coin / num_trials\n",
    "    return prob"
   ]
  },
  {
   "cell_type": "markdown",
   "id": "bbc238f1",
   "metadata": {},
   "source": [
    "With the above code, we can calculate the probability of having at least two persons have same birthday in a group size of k.\n",
    "\n",
    "We can also estimate and plot the probabilities for group sizes ranging from 2 to 100. "
   ]
  },
  {
   "cell_type": "code",
   "execution_count": 24,
   "id": "c6cb5923",
   "metadata": {},
   "outputs": [
    {
     "data": {
      "image/png": "[encoded data removed]",
      "text/plain": [
       "<Figure size 490x490 with 1 Axes>"
      ]
     },
     "metadata": {},
     "output_type": "display_data"
    }
   ],
   "source": [
    "k = range(2, 101)\n",
    "probs=[calculate_p(i) for i in k]\n",
    " \n",
    "fig, ax = plt.subplots(figsize=(10, 10), dpi=49)\n",
    "ax.xaxis.set_tick_params(width=5)\n",
    "ax.yaxis.set_tick_params(width=5)\n",
    "sns.lineplot(x=k, y=probs)\n",
    "plt.xticks(fontsize=15)\n",
    "x_range = np.arange(0, 100, 10)\n",
    "y_range = np.arange(0, 1, 0.1)\n",
    "plt.yticks(x_range)\n",
    "plt.yticks(y_range)\n",
    "plt.grid()\n",
    "plt.xlim([0, 100])\n",
    "plt.ylim([0, 1])\n",
    "plt.xlabel('number of students', fontsize=20)\n",
    "plt.ylabel('probability of coincidence', fontsize=20)\n",
    "plt.show()"
   ]
  },
  {
   "cell_type": "code",
   "execution_count": 12,
   "id": "20f98411",
   "metadata": {},
   "outputs": [
    {
     "name": "stdout",
     "output_type": "stream",
     "text": [
      "0.4781\n",
      "0.5103\n"
     ]
    }
   ],
   "source": [
    "print(calculate_p(22))\n",
    "print(calculate_p(23))"
   ]
  },
  {
   "cell_type": "markdown",
   "id": "1374ba04",
   "metadata": {},
   "source": [
    "Via the graph, we can discover that the number of students that has the probability that two of their birthdays are the same is 0.5 when the size is greater than 23. \n",
    "\n",
    "I can also prove this in another way as below."
   ]
  },
  {
   "cell_type": "code",
   "execution_count": 28,
   "id": "52a28b86",
   "metadata": {},
   "outputs": [
    {
     "name": "stdout",
     "output_type": "stream",
     "text": [
      "23\n"
     ]
    }
   ],
   "source": [
    "import math\n",
    "def student_size(p):\n",
    "    return math.ceil(math.sqrt(2 * 365 *math.log(1/(1-p))));\n",
    "\n",
    "print(student_size(0.50))"
   ]
  },
  {
   "cell_type": "markdown",
   "id": "e5ed6992",
   "metadata": {},
   "source": [
    "That is, when there are 23 students in the class, the probability is 0.5. "
   ]
  },
  {
   "cell_type": "markdown",
   "id": "0d23c8b5",
   "metadata": {},
   "source": [
    "## The Central Limit Theorem (CLT)\n",
    "\n",
    "In this problem, I pick the random variable X from the coin flips. And I am going to simulate the process of flipping a fair coin, and denote \"0\" to be \"tails\", while \"1\" to be \"heads\"."
   ]
  },
  {
   "cell_type": "code",
   "execution_count": 3,
   "id": "089a488c",
   "metadata": {},
   "outputs": [
    {
     "name": "stdout",
     "output_type": "stream",
     "text": [
      "[1 1 1 0 0 0 1 1 0 0 0 1 1 0 0 0 0 1 1 0 1 0 0 1 0 0 1 0 1 0 1 1 0 0 0 1 0\n",
      " 0 0 1 0 0 0 1 0 1 0 0 0 0 0 0 1 1 0 0 0 0 0 0 1 0 1 0 0 1 0 0 1 0 1 1 0 1\n",
      " 1 1 1 1 0 1 1 1 0 0 0 0 0 1 0 0 1 1 0 1 1 1 1 0 1 1]\n"
     ]
    }
   ],
   "source": [
    "import numpy as np\n",
    "from scipy import stats\n",
    "from scipy.stats import norm\n",
    "import matplotlib as mpl\n",
    "import matplotlib.pyplot as plt\n",
    "\n",
    "mpl.style.use('classic')\n",
    "plt.rc('figure', figsize = (6, 4.5))\n",
    "plt.rc('axes', labelsize=16, titlesize=14)\n",
    "plt.rc('figure', autolayout = True)\n",
    "\n",
    "# simulate the coin flips \n",
    "# 0 represents 'tails', 1 represents 'heads'\n",
    "n_flips = 100 #number of coin flips\n",
    "coins = stats.randint.rvs(0, 2, size=n_flips)\n",
    "print(coins)"
   ]
  },
  {
   "cell_type": "markdown",
   "id": "15085d76",
   "metadata": {},
   "source": [
    "Average & Z-score"
   ]
  },
  {
   "cell_type": "code",
   "execution_count": 4,
   "id": "b64ac6d0",
   "metadata": {},
   "outputs": [
    {
     "name": "stdout",
     "output_type": "stream",
     "text": [
      "0.44\n",
      "[ 1.12815215  1.12815215  1.12815215 -0.88640526 -0.88640526 -0.88640526\n",
      "  1.12815215  1.12815215 -0.88640526 -0.88640526 -0.88640526  1.12815215\n",
      "  1.12815215 -0.88640526 -0.88640526 -0.88640526 -0.88640526  1.12815215\n",
      "  1.12815215 -0.88640526  1.12815215 -0.88640526 -0.88640526  1.12815215\n",
      " -0.88640526 -0.88640526  1.12815215 -0.88640526  1.12815215 -0.88640526\n",
      "  1.12815215  1.12815215 -0.88640526 -0.88640526 -0.88640526  1.12815215\n",
      " -0.88640526 -0.88640526 -0.88640526  1.12815215 -0.88640526 -0.88640526\n",
      " -0.88640526  1.12815215 -0.88640526  1.12815215 -0.88640526 -0.88640526\n",
      " -0.88640526 -0.88640526 -0.88640526 -0.88640526  1.12815215  1.12815215\n",
      " -0.88640526 -0.88640526 -0.88640526 -0.88640526 -0.88640526 -0.88640526\n",
      "  1.12815215 -0.88640526  1.12815215 -0.88640526 -0.88640526  1.12815215\n",
      " -0.88640526 -0.88640526  1.12815215 -0.88640526  1.12815215  1.12815215\n",
      " -0.88640526  1.12815215  1.12815215  1.12815215  1.12815215  1.12815215\n",
      " -0.88640526  1.12815215  1.12815215  1.12815215 -0.88640526 -0.88640526\n",
      " -0.88640526 -0.88640526 -0.88640526  1.12815215 -0.88640526 -0.88640526\n",
      "  1.12815215  1.12815215 -0.88640526  1.12815215  1.12815215  1.12815215\n",
      "  1.12815215 -0.88640526  1.12815215  1.12815215]\n"
     ]
    }
   ],
   "source": [
    "avg = np.mean(coins)\n",
    "z = stats.zscore(coins)\n",
    "print(avg)\n",
    "print(z)"
   ]
  },
  {
   "cell_type": "markdown",
   "id": "0fcc1fec",
   "metadata": {},
   "source": [
    "#### Simulating k trials of 100 coin flip experiments "
   ]
  },
  {
   "cell_type": "code",
   "execution_count": 5,
   "id": "a437c1a4",
   "metadata": {},
   "outputs": [
    {
     "name": "stdout",
     "output_type": "stream",
     "text": [
      "[56. 53. 56. ... 51. 50. 53.]\n",
      "[0.43 0.41 0.45 ... 0.52 0.42 0.46]\n",
      "10000\n"
     ]
    }
   ],
   "source": [
    "#number of experiments to simulate\n",
    "k = 10000\n",
    "results = np.zeros(k)\n",
    "mean = np.zeros(k)\n",
    "for i in range(k):\n",
    "    # each experiment consists of 100 coin flips\n",
    "    results[i] = np.sum(stats.randint.rvs(0, 2, size=n_flips))\n",
    "    mean[i] = np.mean(stats.randint.rvs(0, 2, size=n_flips))\n",
    "print(results)\n",
    "print(mean)\n",
    "print(len(mean))"
   ]
  },
  {
   "cell_type": "markdown",
   "id": "8351254e",
   "metadata": {},
   "source": [
    "#### Plot the histogram\n",
    "\n",
    "With the list of results and list of means, I can first plot the histograms of number of heads."
   ]
  },
  {
   "cell_type": "code",
   "execution_count": 6,
   "id": "a03c00df",
   "metadata": {},
   "outputs": [
    {
     "data": {
      "image/png": "[encoded data removed]",
      "text/plain": [
       "<Figure size 480x360 with 1 Axes>"
      ]
     },
     "metadata": {},
     "output_type": "display_data"
    }
   ],
   "source": [
    "num_bins = int(64.5 - 35.5)\n",
    "plt.figure()\n",
    "plt.xlabel(\"number of heads\")\n",
    "plt.ylabel(\"occurrences\")\n",
    "out = plt.hist(results, num_bins, [35.5,64.5],color='steelblue')\n",
    "plt.xlim(35.5,65.5);"
   ]
  },
  {
   "cell_type": "markdown",
   "id": "7197e480",
   "metadata": {},
   "source": [
    "Then, due to Central Limit Theorem, I would further plot the distribution of the sample mean.\n",
    "It's the distribution of the sample mean that approaches the normal distribution.\n",
    "\n",
    "Notice that for a fair coin, the probability of getting a head(\"1\") is 0.5, which is the same of getting a tail(\"0\"), thus the mean of this distribution is 0.5, and the standard deviation of this parent distribution is also 0.5.\n",
    "\n",
    "And the following calculated values prove our prediction."
   ]
  },
  {
   "cell_type": "code",
   "execution_count": 7,
   "id": "90b8a5a4",
   "metadata": {},
   "outputs": [
    {
     "name": "stdout",
     "output_type": "stream",
     "text": [
      "sample mean =  0.49982999999999994\n",
      "sample std =  0.0504417594855691\n",
      "predicted std =  0.05\n"
     ]
    }
   ],
   "source": [
    "#sample mean\n",
    "sample_mean = np.mean(mean)\n",
    "#sample standard deviation\n",
    "sample_std = np.std(mean)\n",
    "#predicted std\n",
    "predicted_std = (1/2)/np.sqrt(n_flips)\n",
    "\n",
    "print(\"sample mean = \", sample_mean)\n",
    "print(\"sample std = \", sample_std)\n",
    "print(\"predicted std = \", predicted_std)"
   ]
  },
  {
   "cell_type": "markdown",
   "id": "9a694293",
   "metadata": {},
   "source": [
    "The histogram below plots the results for the average number of heads in each trial, that is, dividing the number of heads by the number of coin-flips in a trial (in this case 100)."
   ]
  },
  {
   "cell_type": "code",
   "execution_count": 8,
   "id": "b36ce6f6",
   "metadata": {},
   "outputs": [
    {
     "data": {
      "image/png": "[encoded data removed]",
      "text/plain": [
       "<Figure size 480x360 with 1 Axes>"
      ]
     },
     "metadata": {},
     "output_type": "display_data"
    }
   ],
   "source": [
    "low = 35.5/n_flips\n",
    "high = 64.5/n_flips\n",
    "plt.figure()\n",
    "plt.xlabel(\"fraction of heads\")\n",
    "plt.ylabel(\"occurrences\")\n",
    "h_out = plt.hist(mean, num_bins, [low,high],density = True, color='steelblue')\n",
    "plt.xlim(low,high);\n",
    "\n",
    "mu, std = norm.fit(mean)\n",
    "x = np.linspace(low,high)\n",
    "p = norm.pdf(x, mu, std)\n",
    "plt.plot(x, p, 'k', linewidth=2)\n",
    "plt.show()"
   ]
  }
 ],
 "metadata": {
  "kernelspec": {
   "display_name": "Python 3 (ipykernel)",
   "language": "python",
   "name": "python3"
  },
  "language_info": {
   "codemirror_mode": {
    "name": "ipython",
    "version": 3
   },
   "file_extension": ".py",
   "mimetype": "text/x-python",
   "name": "python",
   "nbconvert_exporter": "python",
   "pygments_lexer": "ipython3",
   "version": "3.9.7"
  }
 },
 "nbformat": 4,
 "nbformat_minor": 5
}
