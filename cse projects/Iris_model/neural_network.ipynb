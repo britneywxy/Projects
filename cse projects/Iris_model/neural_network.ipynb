{
 "cells": [
  {
   "cell_type": "markdown",
   "metadata": {
    "id": "koaknmoj8Sff"
   },
   "source": [
    "Neural Network for classfication"
   ]
  },
  {
   "cell_type": "code",
   "execution_count": 1,
   "metadata": {
    "id": "jPKeZOpP8HoF"
   },
   "outputs": [],
   "source": [
    "import tensorflow as tf\n",
    "from tensorflow import keras\n",
    "from tensorflow.keras import Sequential \n",
    "from tensorflow.keras.layers import Dense, Dropout\n",
    "from tensorflow.keras import optimizers \n",
    "import numpy as np\n",
    "import pandas as pd \n",
    "from sklearn.preprocessing import normalize\n",
    "from keras.utils import np_utils"
   ]
  },
  {
   "cell_type": "code",
   "execution_count": 2,
   "metadata": {
    "colab": {
     "base_uri": "https://localhost:8080/"
    },
    "id": "PHidwPVA9ArM",
    "outputId": "7b08805f-b537-4490-fb7a-875df978d251"
   },
   "outputs": [
    {
     "name": "stdout",
     "output_type": "stream",
     "text": [
      "Describing the data:                5.1         3.5         1.4         0.2\n",
      "count  149.000000  149.000000  149.000000  149.000000\n",
      "mean     5.848322    3.051007    3.774497    1.205369\n",
      "std      0.828594    0.433499    1.759651    0.761292\n",
      "min      4.300000    2.000000    1.000000    0.100000\n",
      "25%      5.100000    2.800000    1.600000    0.300000\n",
      "50%      5.800000    3.000000    4.400000    1.300000\n",
      "75%      6.400000    3.300000    5.100000    1.800000\n",
      "max      7.900000    4.400000    6.900000    2.500000\n",
      "<class 'pandas.core.frame.DataFrame'>\n",
      "RangeIndex: 149 entries, 0 to 148\n",
      "Data columns (total 5 columns):\n",
      " #   Column       Non-Null Count  Dtype  \n",
      "---  ------       --------------  -----  \n",
      " 0   5.1          149 non-null    float64\n",
      " 1   3.5          149 non-null    float64\n",
      " 2   1.4          149 non-null    float64\n",
      " 3   0.2          149 non-null    float64\n",
      " 4   Iris-setosa  149 non-null    object \n",
      "dtypes: float64(4), object(1)\n",
      "memory usage: 5.9+ KB\n",
      "Info of the data: None\n"
     ]
    }
   ],
   "source": [
    "data=pd.read_csv(\"iris.data\")\n",
    "print(\"Describing the data: \",data.describe())\n",
    "print(\"Info of the data:\",data.info())"
   ]
  },
  {
   "cell_type": "markdown",
   "metadata": {
    "id": "hOt06FPoCSp3"
   },
   "source": [
    "Edit the dataset by adding columns and convert the class name to be integers 0-2"
   ]
  },
  {
   "cell_type": "code",
   "execution_count": 3,
   "metadata": {
    "colab": {
     "base_uri": "https://localhost:8080/"
    },
    "id": "4oZjN6Pj9UK6",
    "outputId": "a6ca14f6-a5ae-4bbd-8b00-70011f2354c1"
   },
   "outputs": [
    {
     "name": "stdout",
     "output_type": "stream",
     "text": [
      "   seLength  spWidth  peLength  peWidth class\n",
      "0       4.9      3.0       1.4      0.2     0\n",
      "1       4.7      3.2       1.3      0.2     0\n",
      "2       4.6      3.1       1.5      0.2     0\n",
      "3       5.0      3.6       1.4      0.2     0\n",
      "4       5.4      3.9       1.7      0.4     0\n"
     ]
    }
   ],
   "source": [
    "data.columns = ['seLength','spWidth','peLength','peWidth','class']\n",
    "data.loc[data[\"class\"]==\"Iris-setosa\",\"class\"]=0\n",
    "data.loc[data[\"class\"]==\"Iris-versicolor\",\"class\"]=1\n",
    "data.loc[data[\"class\"]==\"Iris-virginica\",\"class\"]=2\n",
    "print(data.head())"
   ]
  },
  {
   "cell_type": "code",
   "execution_count": 4,
   "metadata": {
    "colab": {
     "base_uri": "https://localhost:8080/"
    },
    "id": "iryskPl6-aW-",
    "outputId": "c5550307-6e9a-4e2d-8692-2bfad1880076"
   },
   "outputs": [
    {
     "name": "stdout",
     "output_type": "stream",
     "text": [
      "Shape of X (149, 4)\n",
      "Shape of y (149,)\n",
      "Examples of X\n",
      " [[4.9 3.  1.4 0.2]\n",
      " [4.7 3.2 1.3 0.2]]\n",
      "Examples of y\n",
      " [0 0]\n"
     ]
    }
   ],
   "source": [
    "X=data.iloc[:,0:4].values\n",
    "y=data.iloc[:,4].values\n",
    "print(\"Shape of X\",X.shape)\n",
    "print(\"Shape of y\",y.shape)\n",
    "print(\"Examples of X\\n\",X[:2])\n",
    "print(\"Examples of y\\n\",y[:2])"
   ]
  },
  {
   "cell_type": "markdown",
   "metadata": {
    "id": "rvHM8FVYCdkw"
   },
   "source": [
    "Normalize and Split the data into train set and test set."
   ]
  },
  {
   "cell_type": "code",
   "execution_count": 5,
   "metadata": {
    "id": "elIzqhsX-DXU"
   },
   "outputs": [],
   "source": [
    "## Normalize the features of the dataset to a range of 0 - 1\n",
    "X_normalized=normalize(X,axis=0)\n",
    "\n",
    "total_length=len(data)\n",
    "train_length=int(0.8*total_length)\n",
    "test_length=int(0.2*total_length)\n",
    "\n",
    "X_train=X_normalized[:train_length]\n",
    "X_test=X_normalized[train_length:]\n",
    "y_train=y[:train_length]\n",
    "y_test=y[train_length:]\n",
    "\n",
    "## Change the label to one hot vector\n",
    "y_train=np_utils.to_categorical(y_train,num_classes=3)\n",
    "y_test=np_utils.to_categorical(y_test,num_classes=3)"
   ]
  },
  {
   "cell_type": "markdown",
   "metadata": {
    "id": "keAlYFFtCj2q"
   },
   "source": [
    "Neural network"
   ]
  },
  {
   "cell_type": "code",
   "execution_count": 6,
   "metadata": {
    "id": "zwwoH1N69fxw"
   },
   "outputs": [],
   "source": [
    "model=Sequential()\n",
    "model.add(Dense(1000,input_dim=4,activation='relu'))\n",
    "model.add(Dense(500,activation='relu'))\n",
    "model.add(Dense(300,activation='relu'))\n",
    "#model.add(Dropout(0.2))\n",
    "model.add(Dense(3,activation='softmax'))\n",
    "model.compile(loss='categorical_crossentropy',optimizer='adam',metrics=['accuracy'])"
   ]
  },
  {
   "cell_type": "code",
   "execution_count": 7,
   "metadata": {
    "colab": {
     "base_uri": "https://localhost:8080/"
    },
    "id": "k6MyqVls9tcs",
    "outputId": "717365d8-5bc1-409f-e57b-fb976597de50"
   },
   "outputs": [
    {
     "name": "stdout",
     "output_type": "stream",
     "text": [
      "Model: \"sequential\"\n",
      "_________________________________________________________________\n",
      " Layer (type)                Output Shape              Param #   \n",
      "=================================================================\n",
      " dense (Dense)               (None, 1000)              5000      \n",
      "                                                                 \n",
      " dense_1 (Dense)             (None, 500)               500500    \n",
      "                                                                 \n",
      " dense_2 (Dense)             (None, 300)               150300    \n",
      "                                                                 \n",
      " dense_3 (Dense)             (None, 3)                 903       \n",
      "                                                                 \n",
      "=================================================================\n",
      "Total params: 656,703\n",
      "Trainable params: 656,703\n",
      "Non-trainable params: 0\n",
      "_________________________________________________________________\n"
     ]
    }
   ],
   "source": [
    "model.summary()"
   ]
  },
  {
   "cell_type": "code",
   "execution_count": 8,
   "metadata": {
    "colab": {
     "base_uri": "https://localhost:8080/"
    },
    "id": "UHRube7oASaP",
    "outputId": "f025f5b9-58a2-4314-f014-abd0bb09eaca"
   },
   "outputs": [
    {
     "name": "stdout",
     "output_type": "stream",
     "text": [
      "Epoch 1/50\n",
      "6/6 [==============================] - 1s 55ms/step - loss: 1.0751 - accuracy: 0.7395 - val_loss: 1.2468 - val_accuracy: 0.0000e+00\n",
      "Epoch 2/50\n",
      "6/6 [==============================] - 0s 17ms/step - loss: 0.9805 - accuracy: 0.6639 - val_loss: 1.4573 - val_accuracy: 0.0000e+00\n",
      "Epoch 3/50\n",
      "6/6 [==============================] - 0s 17ms/step - loss: 0.8378 - accuracy: 0.8319 - val_loss: 1.5000 - val_accuracy: 0.0000e+00\n",
      "Epoch 4/50\n",
      "6/6 [==============================] - 0s 15ms/step - loss: 0.6362 - accuracy: 0.8319 - val_loss: 1.3420 - val_accuracy: 0.0000e+00\n",
      "Epoch 5/50\n",
      "6/6 [==============================] - 0s 16ms/step - loss: 0.4544 - accuracy: 0.8319 - val_loss: 1.1331 - val_accuracy: 0.0000e+00\n",
      "Epoch 6/50\n",
      "6/6 [==============================] - 0s 14ms/step - loss: 0.3387 - accuracy: 0.8319 - val_loss: 0.9156 - val_accuracy: 0.0000e+00\n",
      "Epoch 7/50\n",
      "6/6 [==============================] - 0s 14ms/step - loss: 0.2555 - accuracy: 0.8824 - val_loss: 0.9006 - val_accuracy: 0.3000\n",
      "Epoch 8/50\n",
      "6/6 [==============================] - 0s 18ms/step - loss: 0.2012 - accuracy: 0.9244 - val_loss: 0.8832 - val_accuracy: 0.4000\n",
      "Epoch 9/50\n",
      "6/6 [==============================] - 0s 15ms/step - loss: 0.1563 - accuracy: 0.9496 - val_loss: 0.5951 - val_accuracy: 0.6667\n",
      "Epoch 10/50\n",
      "6/6 [==============================] - 0s 15ms/step - loss: 0.1121 - accuracy: 0.9580 - val_loss: 0.2755 - val_accuracy: 0.9333\n",
      "Epoch 11/50\n",
      "6/6 [==============================] - 0s 16ms/step - loss: 0.0931 - accuracy: 0.9832 - val_loss: 0.3057 - val_accuracy: 0.8667\n",
      "Epoch 12/50\n",
      "6/6 [==============================] - 0s 18ms/step - loss: 0.0804 - accuracy: 0.9832 - val_loss: 0.1051 - val_accuracy: 1.0000\n",
      "Epoch 13/50\n",
      "6/6 [==============================] - 0s 17ms/step - loss: 0.0938 - accuracy: 0.9664 - val_loss: 0.7103 - val_accuracy: 0.6667\n",
      "Epoch 14/50\n",
      "6/6 [==============================] - 0s 17ms/step - loss: 0.0762 - accuracy: 0.9580 - val_loss: 0.4446 - val_accuracy: 0.7333\n",
      "Epoch 15/50\n",
      "6/6 [==============================] - 0s 17ms/step - loss: 0.0639 - accuracy: 0.9916 - val_loss: 0.1271 - val_accuracy: 0.9667\n",
      "Epoch 16/50\n",
      "6/6 [==============================] - 0s 17ms/step - loss: 0.0519 - accuracy: 0.9832 - val_loss: 1.0293 - val_accuracy: 0.5333\n",
      "Epoch 17/50\n",
      "6/6 [==============================] - 0s 17ms/step - loss: 0.1293 - accuracy: 0.9496 - val_loss: 0.0189 - val_accuracy: 1.0000\n",
      "Epoch 18/50\n",
      "6/6 [==============================] - 0s 18ms/step - loss: 0.1888 - accuracy: 0.9160 - val_loss: 0.3527 - val_accuracy: 0.8000\n",
      "Epoch 19/50\n",
      "6/6 [==============================] - 0s 17ms/step - loss: 0.0591 - accuracy: 0.9580 - val_loss: 0.2532 - val_accuracy: 0.9000\n",
      "Epoch 20/50\n",
      "6/6 [==============================] - 0s 14ms/step - loss: 0.0478 - accuracy: 0.9748 - val_loss: 0.3719 - val_accuracy: 0.7667\n",
      "Epoch 21/50\n",
      "6/6 [==============================] - 0s 15ms/step - loss: 0.0809 - accuracy: 0.9496 - val_loss: 0.0474 - val_accuracy: 1.0000\n",
      "Epoch 22/50\n",
      "6/6 [==============================] - 0s 19ms/step - loss: 0.0991 - accuracy: 0.9664 - val_loss: 0.9783 - val_accuracy: 0.6000\n",
      "Epoch 23/50\n",
      "6/6 [==============================] - 0s 17ms/step - loss: 0.0974 - accuracy: 0.9664 - val_loss: 0.0559 - val_accuracy: 1.0000\n",
      "Epoch 24/50\n",
      "6/6 [==============================] - 0s 14ms/step - loss: 0.0965 - accuracy: 0.9580 - val_loss: 0.7984 - val_accuracy: 0.6667\n",
      "Epoch 25/50\n",
      "6/6 [==============================] - 0s 16ms/step - loss: 0.1117 - accuracy: 0.9664 - val_loss: 0.0765 - val_accuracy: 0.9667\n",
      "Epoch 26/50\n",
      "6/6 [==============================] - 0s 16ms/step - loss: 0.1116 - accuracy: 0.9580 - val_loss: 0.9554 - val_accuracy: 0.6333\n",
      "Epoch 27/50\n",
      "6/6 [==============================] - 0s 16ms/step - loss: 0.1197 - accuracy: 0.9664 - val_loss: 0.1321 - val_accuracy: 0.9333\n",
      "Epoch 28/50\n",
      "6/6 [==============================] - 0s 17ms/step - loss: 0.0551 - accuracy: 0.9664 - val_loss: 0.2618 - val_accuracy: 0.9000\n",
      "Epoch 29/50\n",
      "6/6 [==============================] - 0s 18ms/step - loss: 0.0508 - accuracy: 0.9664 - val_loss: 0.1923 - val_accuracy: 0.9333\n",
      "Epoch 30/50\n",
      "6/6 [==============================] - 0s 18ms/step - loss: 0.0358 - accuracy: 0.9832 - val_loss: 0.4560 - val_accuracy: 0.7333\n",
      "Epoch 31/50\n",
      "6/6 [==============================] - 0s 18ms/step - loss: 0.0415 - accuracy: 0.9832 - val_loss: 0.1861 - val_accuracy: 0.9333\n",
      "Epoch 32/50\n",
      "6/6 [==============================] - 0s 15ms/step - loss: 0.0424 - accuracy: 0.9832 - val_loss: 0.1882 - val_accuracy: 0.9333\n",
      "Epoch 33/50\n",
      "6/6 [==============================] - 0s 14ms/step - loss: 0.0463 - accuracy: 0.9832 - val_loss: 0.3683 - val_accuracy: 0.8000\n",
      "Epoch 34/50\n",
      "6/6 [==============================] - 0s 14ms/step - loss: 0.0417 - accuracy: 0.9832 - val_loss: 0.2528 - val_accuracy: 0.9000\n",
      "Epoch 35/50\n",
      "6/6 [==============================] - 0s 14ms/step - loss: 0.0438 - accuracy: 0.9832 - val_loss: 0.1823 - val_accuracy: 0.9333\n",
      "Epoch 36/50\n",
      "6/6 [==============================] - 0s 17ms/step - loss: 0.0362 - accuracy: 1.0000 - val_loss: 0.3117 - val_accuracy: 0.8333\n",
      "Epoch 37/50\n",
      "6/6 [==============================] - 0s 17ms/step - loss: 0.0389 - accuracy: 0.9832 - val_loss: 0.1816 - val_accuracy: 0.9333\n",
      "Epoch 38/50\n",
      "6/6 [==============================] - 0s 14ms/step - loss: 0.0400 - accuracy: 0.9832 - val_loss: 0.3001 - val_accuracy: 0.8333\n",
      "Epoch 39/50\n",
      "6/6 [==============================] - 0s 15ms/step - loss: 0.0586 - accuracy: 0.9664 - val_loss: 0.2818 - val_accuracy: 0.8333\n",
      "Epoch 40/50\n",
      "6/6 [==============================] - 0s 18ms/step - loss: 0.0521 - accuracy: 0.9748 - val_loss: 0.2082 - val_accuracy: 0.9333\n",
      "Epoch 41/50\n",
      "6/6 [==============================] - 0s 17ms/step - loss: 0.0505 - accuracy: 0.9832 - val_loss: 0.2773 - val_accuracy: 0.8333\n",
      "Epoch 42/50\n",
      "6/6 [==============================] - 0s 17ms/step - loss: 0.0453 - accuracy: 0.9832 - val_loss: 0.2127 - val_accuracy: 0.9333\n",
      "Epoch 43/50\n",
      "6/6 [==============================] - 0s 14ms/step - loss: 0.0314 - accuracy: 0.9832 - val_loss: 0.2610 - val_accuracy: 0.9000\n",
      "Epoch 44/50\n",
      "6/6 [==============================] - 0s 19ms/step - loss: 0.0364 - accuracy: 0.9832 - val_loss: 0.3194 - val_accuracy: 0.8333\n",
      "Epoch 45/50\n",
      "6/6 [==============================] - 0s 14ms/step - loss: 0.0445 - accuracy: 0.9832 - val_loss: 0.1428 - val_accuracy: 0.9333\n",
      "Epoch 46/50\n",
      "6/6 [==============================] - 0s 17ms/step - loss: 0.0404 - accuracy: 0.9832 - val_loss: 0.2999 - val_accuracy: 0.8333\n",
      "Epoch 47/50\n",
      "6/6 [==============================] - 0s 16ms/step - loss: 0.0359 - accuracy: 0.9832 - val_loss: 0.3087 - val_accuracy: 0.8333\n",
      "Epoch 48/50\n",
      "6/6 [==============================] - 0s 17ms/step - loss: 0.0350 - accuracy: 0.9832 - val_loss: 0.2407 - val_accuracy: 0.9000\n",
      "Epoch 49/50\n",
      "6/6 [==============================] - 0s 15ms/step - loss: 0.0326 - accuracy: 0.9832 - val_loss: 0.5558 - val_accuracy: 0.7333\n",
      "Epoch 50/50\n",
      "6/6 [==============================] - 0s 15ms/step - loss: 0.0447 - accuracy: 0.9832 - val_loss: 0.0922 - val_accuracy: 0.9667\n"
     ]
    },
    {
     "data": {
      "text/plain": [
       "<keras.callbacks.History at 0x7f83d28b9610>"
      ]
     },
     "execution_count": 8,
     "metadata": {},
     "output_type": "execute_result"
    }
   ],
   "source": [
    "model.fit(X_train,y_train,validation_data=(X_test,y_test),batch_size=20,epochs=50,verbose=1)"
   ]
  },
  {
   "cell_type": "code",
   "execution_count": 9,
   "metadata": {
    "colab": {
     "base_uri": "https://localhost:8080/"
    },
    "id": "wh5NDhVAAYUW",
    "outputId": "d8883dfc-6dd6-4f1d-bdfc-1988ae313d8f"
   },
   "outputs": [
    {
     "name": "stdout",
     "output_type": "stream",
     "text": [
      "Accuracy of the dataset 96.66666666666667\n"
     ]
    }
   ],
   "source": [
    "prediction=model.predict(X_test)\n",
    "length=len(prediction)\n",
    "y_label=np.argmax(y_test,axis=1)\n",
    "predict_label=np.argmax(prediction,axis=1)\n",
    "\n",
    "accuracy=np.sum(y_label==predict_label)/length * 100 \n",
    "print(\"Accuracy of the dataset\",accuracy )"
   ]
  },
  {
   "cell_type": "markdown",
   "metadata": {
    "id": "HPthAOsFBlMv"
   },
   "source": [
    "With more epochs, the accuracy is higher."
   ]
  }
 ],
 "metadata": {
  "colab": {
   "collapsed_sections": [],
   "name": "assignment4.ipynb",
   "provenance": []
  },
  "kernelspec": {
   "display_name": "Python 3 (ipykernel)",
   "language": "python",
   "name": "python3"
  },
  "language_info": {
   "codemirror_mode": {
    "name": "ipython",
    "version": 3
   },
   "file_extension": ".py",
   "mimetype": "text/x-python",
   "name": "python",
   "nbconvert_exporter": "python",
   "pygments_lexer": "ipython3",
   "version": "3.9.7"
  }
 },
 "nbformat": 4,
 "nbformat_minor": 1
}
