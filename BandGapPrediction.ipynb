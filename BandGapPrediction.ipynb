{
 "cells": [
  {
   "cell_type": "markdown",
   "metadata": {},
   "source": [
    "# Band gap prediction of inorganic materials"
   ]
  },
  {
   "cell_type": "code",
   "execution_count": 121,
   "metadata": {},
   "outputs": [],
   "source": [
    "import pandas as pd\n",
    "import numpy as np\n",
    "from sklearn import metrics\n",
    "from sklearn.model_selection import train_test_split, GridSearchCV\n",
    "from sklearn.linear_model import LinearRegression, Ridge, Lasso\n",
    "from sklearn.ensemble import RandomForestRegressor, GradientBoostingRegressor, StackingRegressor\n",
    "from xgboost import XGBRegressor\n",
    "from sklearn.svm import SVR\n",
    "from sklearn.preprocessing import StandardScaler\n",
    "import warnings\n",
    "warnings.filterwarnings(\"ignore\")"
   ]
  },
  {
   "cell_type": "markdown",
   "metadata": {},
   "source": [
    "## Data Preprocessing"
   ]
  },
  {
   "cell_type": "markdown",
   "metadata": {},
   "source": [
    "#### Load the dataset\n",
    "\n",
    "This dataset provides quantitative measurements of the band gap (Egap) for a set of inorganic crystaline materials.\n",
    "- train_X.csv: Material and descriptors with Id column, for training\n",
    "- train_y.csv: Egap with Id column, for training\n",
    "- test_X.csv: Material and descriptors with Id column, for prediction\n",
    "\n",
    "Data fields:\n",
    "- Id : a numeric id unique to a given material (the last column)\n",
    "- D1-D132 : chemical descriptors for a given material\n",
    "- Egap : Band gap values"
   ]
  },
  {
   "cell_type": "code",
   "execution_count": 3,
   "metadata": {},
   "outputs": [],
   "source": [
    "#training set\n",
    "X = pd.read_csv(\"train_X.csv\")\n",
    "Y = pd.read_csv(\"train_y.csv\")\n",
    "#test set\n",
    "X_test = pd.read_csv(\"test_X.csv\")\n",
    "#store the ID\n",
    "ID = X_test[\"Id\"]\n",
    "\n",
    "print(X.shape)\n",
    "print(Y.shape)\n",
    "print(X_test.shape)\n"
   ]
  },
  {
   "cell_type": "markdown",
   "metadata": {},
   "source": [
    "#### Remove the missing values"
   ]
  },
  {
   "cell_type": "markdown",
   "metadata": {},
   "source": [
    "Check if there are any missing values or columns that only contain zeros values."
   ]
  },
  {
   "cell_type": "code",
   "execution_count": null,
   "metadata": {},
   "outputs": [
    {
     "name": "stdout",
     "output_type": "stream",
     "text": [
      "missing values:  0\n",
      "Columns that contain only zeros in X: ['D97', 'D121']\n",
      "Columns that contain only zeros in X_test: ['D97', 'D121']\n"
     ]
    }
   ],
   "source": [
    "print(\"missing values: \",X.isnull().sum().max())\n",
    "list_zeros_X = (X == 0).sum()\n",
    "list_zeros_test = (X_test == 0).sum()\n",
    "num_rows_X = len(X)\n",
    "num_rows_test = len(X_test)\n",
    "columns_all_zeros_X = list_zeros_X[list_zeros_X == num_rows_X].index.tolist()\n",
    "columns_all_zeros_test = list_zeros_test[list_zeros_test == num_rows_test].index.tolist()\n",
    "\n",
    "print(\"Columns that contain only zeros in X:\", columns_all_zeros_X)\n",
    "print(\"Columns that contain only zeros in X_test:\", columns_all_zeros_test)\n"
   ]
  },
  {
   "cell_type": "code",
   "execution_count": null,
   "metadata": {},
   "outputs": [
    {
     "data": {
      "text/html": [
       "<div>\n",
       "<style scoped>\n",
       "    .dataframe tbody tr th:only-of-type {\n",
       "        vertical-align: middle;\n",
       "    }\n",
       "\n",
       "    .dataframe tbody tr th {\n",
       "        vertical-align: top;\n",
       "    }\n",
       "\n",
       "    .dataframe thead th {\n",
       "        text-align: right;\n",
       "    }\n",
       "</style>\n",
       "<table border=\"1\" class=\"dataframe\">\n",
       "  <thead>\n",
       "    <tr style=\"text-align: right;\">\n",
       "      <th></th>\n",
       "      <th>Material</th>\n",
       "      <th>D1</th>\n",
       "      <th>D2</th>\n",
       "      <th>D3</th>\n",
       "      <th>D4</th>\n",
       "      <th>D5</th>\n",
       "      <th>D6</th>\n",
       "      <th>D7</th>\n",
       "      <th>D8</th>\n",
       "      <th>D9</th>\n",
       "      <th>...</th>\n",
       "      <th>D124</th>\n",
       "      <th>D125</th>\n",
       "      <th>D126</th>\n",
       "      <th>D127</th>\n",
       "      <th>D128</th>\n",
       "      <th>D129</th>\n",
       "      <th>D130</th>\n",
       "      <th>D131</th>\n",
       "      <th>D132</th>\n",
       "      <th>Id</th>\n",
       "    </tr>\n",
       "  </thead>\n",
       "  <tbody>\n",
       "    <tr>\n",
       "      <th>0</th>\n",
       "      <td>O4V1Y1</td>\n",
       "      <td>8</td>\n",
       "      <td>39</td>\n",
       "      <td>31</td>\n",
       "      <td>15.6667</td>\n",
       "      <td>10.2222</td>\n",
       "      <td>8</td>\n",
       "      <td>12</td>\n",
       "      <td>87</td>\n",
       "      <td>75</td>\n",
       "      <td>...</td>\n",
       "      <td>0.0</td>\n",
       "      <td>0.0</td>\n",
       "      <td>0.0</td>\n",
       "      <td>12</td>\n",
       "      <td>229</td>\n",
       "      <td>217</td>\n",
       "      <td>78.500</td>\n",
       "      <td>88.6667</td>\n",
       "      <td>12</td>\n",
       "      <td>8683</td>\n",
       "    </tr>\n",
       "    <tr>\n",
       "      <th>1</th>\n",
       "      <td>Al1Ba2Cu2F11</td>\n",
       "      <td>9</td>\n",
       "      <td>56</td>\n",
       "      <td>47</td>\n",
       "      <td>17.6250</td>\n",
       "      <td>12.4375</td>\n",
       "      <td>9</td>\n",
       "      <td>9</td>\n",
       "      <td>93</td>\n",
       "      <td>84</td>\n",
       "      <td>...</td>\n",
       "      <td>0.0</td>\n",
       "      <td>0.0</td>\n",
       "      <td>0.0</td>\n",
       "      <td>15</td>\n",
       "      <td>229</td>\n",
       "      <td>214</td>\n",
       "      <td>81.125</td>\n",
       "      <td>90.9219</td>\n",
       "      <td>15</td>\n",
       "      <td>8788</td>\n",
       "    </tr>\n",
       "  </tbody>\n",
       "</table>\n",
       "<p>2 rows × 132 columns</p>\n",
       "</div>"
      ],
      "text/plain": [
       "       Material  D1  D2  D3       D4       D5  D6  D7  D8  D9  ...  D124  \\\n",
       "0        O4V1Y1   8  39  31  15.6667  10.2222   8  12  87  75  ...   0.0   \n",
       "1  Al1Ba2Cu2F11   9  56  47  17.6250  12.4375   9   9  93  84  ...   0.0   \n",
       "\n",
       "   D125  D126  D127  D128  D129    D130     D131  D132    Id  \n",
       "0   0.0   0.0    12   229   217  78.500  88.6667    12  8683  \n",
       "1   0.0   0.0    15   229   214  81.125  90.9219    15  8788  \n",
       "\n",
       "[2 rows x 132 columns]"
      ]
     },
     "execution_count": 10,
     "metadata": {},
     "output_type": "execute_result"
    }
   ],
   "source": [
    "## Drop the D97 and D121 column since they only contain 0 values\n",
    "X.drop(['D97','D121'], axis=1, inplace=True)\n",
    "X_test.drop(['D97','D121'], axis=1, inplace=True)\n",
    "X.head(2)"
   ]
  },
  {
   "cell_type": "markdown",
   "metadata": {},
   "source": [
    "### Deal with the Duplicated rows"
   ]
  },
  {
   "cell_type": "code",
   "execution_count": null,
   "metadata": {},
   "outputs": [
    {
     "name": "stdout",
     "output_type": "stream",
     "text": [
      "There are duplicated rows in X_train: True\n",
      "There are duplicated rows in X_test: True\n"
     ]
    }
   ],
   "source": [
    "def check_identical_rows_except_material(group):\n",
    "    # drop the 'Material' column to compare the rest of the columns\n",
    "    group_without_material = group.drop(columns='Material')\n",
    "    # Compare all rows to the first row to check for identical rows\n",
    "    return group_without_material.eq(group_without_material.iloc[0]).all(axis=None)\n",
    "\n",
    "# Apply the function to each group\n",
    "identical_rows_result_train = X.groupby('Material').apply(check_identical_rows_except_material)\n",
    "print(\"There are duplicated rows in X_train:\", identical_rows_result_train.any())\n",
    "identical_rows_result_test = X_test.groupby('Material').apply(check_identical_rows_except_material)\n",
    "print(\"There are duplicated rows in X_test:\", identical_rows_result_test.any())\n",
    "\n",
    "#\"true\" means all rows are identical across all columns except for the 'Material' column itself."
   ]
  },
  {
   "cell_type": "code",
   "execution_count": null,
   "metadata": {},
   "outputs": [
    {
     "name": "stdout",
     "output_type": "stream",
     "text": [
      "(9640, 133)\n"
     ]
    },
    {
     "data": {
      "text/html": [
       "<div>\n",
       "<style scoped>\n",
       "    .dataframe tbody tr th:only-of-type {\n",
       "        vertical-align: middle;\n",
       "    }\n",
       "\n",
       "    .dataframe tbody tr th {\n",
       "        vertical-align: top;\n",
       "    }\n",
       "\n",
       "    .dataframe thead th {\n",
       "        text-align: right;\n",
       "    }\n",
       "</style>\n",
       "<table border=\"1\" class=\"dataframe\">\n",
       "  <thead>\n",
       "    <tr style=\"text-align: right;\">\n",
       "      <th></th>\n",
       "      <th>Material</th>\n",
       "      <th>D1</th>\n",
       "      <th>D2</th>\n",
       "      <th>D3</th>\n",
       "      <th>D4</th>\n",
       "      <th>D5</th>\n",
       "      <th>D6</th>\n",
       "      <th>D7</th>\n",
       "      <th>D8</th>\n",
       "      <th>D9</th>\n",
       "      <th>...</th>\n",
       "      <th>D125</th>\n",
       "      <th>D126</th>\n",
       "      <th>D127</th>\n",
       "      <th>D128</th>\n",
       "      <th>D129</th>\n",
       "      <th>D130</th>\n",
       "      <th>D131</th>\n",
       "      <th>D132</th>\n",
       "      <th>Id</th>\n",
       "      <th>Egap</th>\n",
       "    </tr>\n",
       "  </thead>\n",
       "  <tbody>\n",
       "    <tr>\n",
       "      <th>0</th>\n",
       "      <td>O4V1Y1</td>\n",
       "      <td>8</td>\n",
       "      <td>39</td>\n",
       "      <td>31</td>\n",
       "      <td>15.6667</td>\n",
       "      <td>10.22220</td>\n",
       "      <td>8</td>\n",
       "      <td>12</td>\n",
       "      <td>87</td>\n",
       "      <td>75</td>\n",
       "      <td>...</td>\n",
       "      <td>0.0</td>\n",
       "      <td>0.0</td>\n",
       "      <td>12</td>\n",
       "      <td>229</td>\n",
       "      <td>217</td>\n",
       "      <td>78.500</td>\n",
       "      <td>88.6667</td>\n",
       "      <td>12</td>\n",
       "      <td>8683</td>\n",
       "      <td>2.8121</td>\n",
       "    </tr>\n",
       "    <tr>\n",
       "      <th>1</th>\n",
       "      <td>Al1Ba2Cu2F11</td>\n",
       "      <td>9</td>\n",
       "      <td>56</td>\n",
       "      <td>47</td>\n",
       "      <td>17.6250</td>\n",
       "      <td>12.43750</td>\n",
       "      <td>9</td>\n",
       "      <td>9</td>\n",
       "      <td>93</td>\n",
       "      <td>84</td>\n",
       "      <td>...</td>\n",
       "      <td>0.0</td>\n",
       "      <td>0.0</td>\n",
       "      <td>15</td>\n",
       "      <td>229</td>\n",
       "      <td>214</td>\n",
       "      <td>81.125</td>\n",
       "      <td>90.9219</td>\n",
       "      <td>15</td>\n",
       "      <td>8788</td>\n",
       "      <td>2.5128</td>\n",
       "    </tr>\n",
       "    <tr>\n",
       "      <th>2</th>\n",
       "      <td>Li2O2Pd1</td>\n",
       "      <td>3</td>\n",
       "      <td>46</td>\n",
       "      <td>43</td>\n",
       "      <td>13.6000</td>\n",
       "      <td>12.96000</td>\n",
       "      <td>3</td>\n",
       "      <td>1</td>\n",
       "      <td>87</td>\n",
       "      <td>86</td>\n",
       "      <td>...</td>\n",
       "      <td>0.0</td>\n",
       "      <td>0.0</td>\n",
       "      <td>12</td>\n",
       "      <td>229</td>\n",
       "      <td>217</td>\n",
       "      <td>141.400</td>\n",
       "      <td>103.5200</td>\n",
       "      <td>12</td>\n",
       "      <td>5144</td>\n",
       "      <td>1.9510</td>\n",
       "    </tr>\n",
       "    <tr>\n",
       "      <th>3</th>\n",
       "      <td>Br2Cl2Cu1Rb2</td>\n",
       "      <td>17</td>\n",
       "      <td>37</td>\n",
       "      <td>20</td>\n",
       "      <td>29.5714</td>\n",
       "      <td>7.34694</td>\n",
       "      <td>17</td>\n",
       "      <td>4</td>\n",
       "      <td>95</td>\n",
       "      <td>91</td>\n",
       "      <td>...</td>\n",
       "      <td>0.0</td>\n",
       "      <td>0.0</td>\n",
       "      <td>64</td>\n",
       "      <td>229</td>\n",
       "      <td>165</td>\n",
       "      <td>134.143</td>\n",
       "      <td>80.1633</td>\n",
       "      <td>64</td>\n",
       "      <td>9593</td>\n",
       "      <td>1.0099</td>\n",
       "    </tr>\n",
       "    <tr>\n",
       "      <th>4</th>\n",
       "      <td>Al1K1O2</td>\n",
       "      <td>8</td>\n",
       "      <td>19</td>\n",
       "      <td>11</td>\n",
       "      <td>12.0000</td>\n",
       "      <td>4.00000</td>\n",
       "      <td>8</td>\n",
       "      <td>3</td>\n",
       "      <td>87</td>\n",
       "      <td>84</td>\n",
       "      <td>...</td>\n",
       "      <td>0.0</td>\n",
       "      <td>0.0</td>\n",
       "      <td>12</td>\n",
       "      <td>229</td>\n",
       "      <td>217</td>\n",
       "      <td>119.500</td>\n",
       "      <td>107.5000</td>\n",
       "      <td>12</td>\n",
       "      <td>2027</td>\n",
       "      <td>2.9344</td>\n",
       "    </tr>\n",
       "  </tbody>\n",
       "</table>\n",
       "<p>5 rows × 133 columns</p>\n",
       "</div>"
      ],
      "text/plain": [
       "       Material  D1  D2  D3       D4        D5  D6  D7  D8  D9  ...  D125  \\\n",
       "0        O4V1Y1   8  39  31  15.6667  10.22220   8  12  87  75  ...   0.0   \n",
       "1  Al1Ba2Cu2F11   9  56  47  17.6250  12.43750   9   9  93  84  ...   0.0   \n",
       "2      Li2O2Pd1   3  46  43  13.6000  12.96000   3   1  87  86  ...   0.0   \n",
       "3  Br2Cl2Cu1Rb2  17  37  20  29.5714   7.34694  17   4  95  91  ...   0.0   \n",
       "4       Al1K1O2   8  19  11  12.0000   4.00000   8   3  87  84  ...   0.0   \n",
       "\n",
       "   D126  D127  D128  D129     D130      D131  D132    Id    Egap  \n",
       "0   0.0    12   229   217   78.500   88.6667    12  8683  2.8121  \n",
       "1   0.0    15   229   214   81.125   90.9219    15  8788  2.5128  \n",
       "2   0.0    12   229   217  141.400  103.5200    12  5144  1.9510  \n",
       "3   0.0    64   229   165  134.143   80.1633    64  9593  1.0099  \n",
       "4   0.0    12   229   217  119.500  107.5000    12  2027  2.9344  \n",
       "\n",
       "[5 rows x 133 columns]"
      ]
     },
     "execution_count": 11,
     "metadata": {},
     "output_type": "execute_result"
    }
   ],
   "source": [
    "# merge the tables\n",
    "combined_df = pd.merge(X, Y, on='Id')\n",
    "print(combined_df.shape)\n",
    "combined_df.head(5)"
   ]
  },
  {
   "cell_type": "code",
   "execution_count": null,
   "metadata": {},
   "outputs": [
    {
     "name": "stdout",
     "output_type": "stream",
     "text": [
      "(8462, 132)\n"
     ]
    },
    {
     "data": {
      "text/html": [
       "<div>\n",
       "<style scoped>\n",
       "    .dataframe tbody tr th:only-of-type {\n",
       "        vertical-align: middle;\n",
       "    }\n",
       "\n",
       "    .dataframe tbody tr th {\n",
       "        vertical-align: top;\n",
       "    }\n",
       "\n",
       "    .dataframe thead th {\n",
       "        text-align: right;\n",
       "    }\n",
       "</style>\n",
       "<table border=\"1\" class=\"dataframe\">\n",
       "  <thead>\n",
       "    <tr style=\"text-align: right;\">\n",
       "      <th></th>\n",
       "      <th>Material</th>\n",
       "      <th>D1</th>\n",
       "      <th>D2</th>\n",
       "      <th>D3</th>\n",
       "      <th>D4</th>\n",
       "      <th>D5</th>\n",
       "      <th>D6</th>\n",
       "      <th>D7</th>\n",
       "      <th>D8</th>\n",
       "      <th>D9</th>\n",
       "      <th>...</th>\n",
       "      <th>D124</th>\n",
       "      <th>D125</th>\n",
       "      <th>D126</th>\n",
       "      <th>D127</th>\n",
       "      <th>D128</th>\n",
       "      <th>D129</th>\n",
       "      <th>D130</th>\n",
       "      <th>D131</th>\n",
       "      <th>D132</th>\n",
       "      <th>Egap</th>\n",
       "    </tr>\n",
       "  </thead>\n",
       "  <tbody>\n",
       "    <tr>\n",
       "      <th>0</th>\n",
       "      <td>Ac1Br3</td>\n",
       "      <td>35</td>\n",
       "      <td>89</td>\n",
       "      <td>54</td>\n",
       "      <td>48.5</td>\n",
       "      <td>20.25</td>\n",
       "      <td>35</td>\n",
       "      <td>14</td>\n",
       "      <td>95</td>\n",
       "      <td>81</td>\n",
       "      <td>...</td>\n",
       "      <td>0.0</td>\n",
       "      <td>0.0</td>\n",
       "      <td>0.0</td>\n",
       "      <td>64</td>\n",
       "      <td>225</td>\n",
       "      <td>161</td>\n",
       "      <td>104.250</td>\n",
       "      <td>60.375</td>\n",
       "      <td>64</td>\n",
       "      <td>4.1084</td>\n",
       "    </tr>\n",
       "    <tr>\n",
       "      <th>1</th>\n",
       "      <td>Ac1Cl3</td>\n",
       "      <td>17</td>\n",
       "      <td>89</td>\n",
       "      <td>72</td>\n",
       "      <td>35.0</td>\n",
       "      <td>27.00</td>\n",
       "      <td>17</td>\n",
       "      <td>14</td>\n",
       "      <td>94</td>\n",
       "      <td>80</td>\n",
       "      <td>...</td>\n",
       "      <td>0.0</td>\n",
       "      <td>0.0</td>\n",
       "      <td>0.0</td>\n",
       "      <td>64</td>\n",
       "      <td>225</td>\n",
       "      <td>161</td>\n",
       "      <td>104.250</td>\n",
       "      <td>60.375</td>\n",
       "      <td>64</td>\n",
       "      <td>5.0778</td>\n",
       "    </tr>\n",
       "    <tr>\n",
       "      <th>2</th>\n",
       "      <td>Ac2O3</td>\n",
       "      <td>8</td>\n",
       "      <td>89</td>\n",
       "      <td>81</td>\n",
       "      <td>40.4</td>\n",
       "      <td>38.88</td>\n",
       "      <td>8</td>\n",
       "      <td>14</td>\n",
       "      <td>87</td>\n",
       "      <td>73</td>\n",
       "      <td>...</td>\n",
       "      <td>0.0</td>\n",
       "      <td>0.0</td>\n",
       "      <td>0.0</td>\n",
       "      <td>12</td>\n",
       "      <td>225</td>\n",
       "      <td>213</td>\n",
       "      <td>97.200</td>\n",
       "      <td>102.240</td>\n",
       "      <td>12</td>\n",
       "      <td>3.5216</td>\n",
       "    </tr>\n",
       "    <tr>\n",
       "      <th>3</th>\n",
       "      <td>Ag10C2F8</td>\n",
       "      <td>6</td>\n",
       "      <td>47</td>\n",
       "      <td>41</td>\n",
       "      <td>27.7</td>\n",
       "      <td>19.30</td>\n",
       "      <td>47</td>\n",
       "      <td>65</td>\n",
       "      <td>93</td>\n",
       "      <td>28</td>\n",
       "      <td>...</td>\n",
       "      <td>0.0</td>\n",
       "      <td>0.0</td>\n",
       "      <td>0.0</td>\n",
       "      <td>15</td>\n",
       "      <td>225</td>\n",
       "      <td>210</td>\n",
       "      <td>137.900</td>\n",
       "      <td>98.320</td>\n",
       "      <td>225</td>\n",
       "      <td>2.2565</td>\n",
       "    </tr>\n",
       "    <tr>\n",
       "      <th>4</th>\n",
       "      <td>Ag18O21Si6</td>\n",
       "      <td>8</td>\n",
       "      <td>47</td>\n",
       "      <td>39</td>\n",
       "      <td>24.4</td>\n",
       "      <td>18.08</td>\n",
       "      <td>8</td>\n",
       "      <td>65</td>\n",
       "      <td>87</td>\n",
       "      <td>22</td>\n",
       "      <td>...</td>\n",
       "      <td>0.0</td>\n",
       "      <td>0.0</td>\n",
       "      <td>0.0</td>\n",
       "      <td>12</td>\n",
       "      <td>227</td>\n",
       "      <td>215</td>\n",
       "      <td>125.867</td>\n",
       "      <td>106.276</td>\n",
       "      <td>12</td>\n",
       "      <td>0.7077</td>\n",
       "    </tr>\n",
       "  </tbody>\n",
       "</table>\n",
       "<p>5 rows × 132 columns</p>\n",
       "</div>"
      ],
      "text/plain": [
       "     Material  D1  D2  D3    D4     D5  D6  D7  D8  D9  ...  D124  D125  D126  \\\n",
       "0      Ac1Br3  35  89  54  48.5  20.25  35  14  95  81  ...   0.0   0.0   0.0   \n",
       "1      Ac1Cl3  17  89  72  35.0  27.00  17  14  94  80  ...   0.0   0.0   0.0   \n",
       "2       Ac2O3   8  89  81  40.4  38.88   8  14  87  73  ...   0.0   0.0   0.0   \n",
       "3    Ag10C2F8   6  47  41  27.7  19.30  47  65  93  28  ...   0.0   0.0   0.0   \n",
       "4  Ag18O21Si6   8  47  39  24.4  18.08   8  65  87  22  ...   0.0   0.0   0.0   \n",
       "\n",
       "   D127  D128  D129     D130     D131  D132    Egap  \n",
       "0    64   225   161  104.250   60.375    64  4.1084  \n",
       "1    64   225   161  104.250   60.375    64  5.0778  \n",
       "2    12   225   213   97.200  102.240    12  3.5216  \n",
       "3    15   225   210  137.900   98.320   225  2.2565  \n",
       "4    12   227   215  125.867  106.276    12  0.7077  \n",
       "\n",
       "[5 rows x 132 columns]"
      ]
     },
     "execution_count": 12,
     "metadata": {},
     "output_type": "execute_result"
    }
   ],
   "source": [
    "df_X_without_id = X.drop(columns=['Id'])\n",
    "grouped_df = combined_df.groupby(list(df_X_without_id.columns)).agg({'Egap': 'mean'}).reset_index()\n",
    "print(grouped_df.shape)\n",
    "grouped_df.head(5)"
   ]
  },
  {
   "cell_type": "code",
   "execution_count": null,
   "metadata": {},
   "outputs": [
    {
     "name": "stdout",
     "output_type": "stream",
     "text": [
      "(8462, 131)\n",
      "(8462, 1)\n"
     ]
    }
   ],
   "source": [
    "#split into X and Y again\n",
    "X_new = grouped_df.drop(columns=['Egap'])\n",
    "Y_new = grouped_df[['Egap']]\n",
    "print(X_new.shape)\n",
    "print(Y_new.shape)"
   ]
  },
  {
   "cell_type": "code",
   "execution_count": null,
   "metadata": {},
   "outputs": [],
   "source": [
    "X_new.drop(['Material'], axis=1, inplace=True) #drop material\n",
    "X_test.drop(['Id'], axis=1, inplace=True) #drop ID\n",
    "X_test.drop(['Material'], axis=1, inplace=True) #drop material\n",
    "\n",
    "Y_new = Y_new.values.ravel()"
   ]
  },
  {
   "cell_type": "markdown",
   "metadata": {},
   "source": [
    "## Data Scaling and Spliting"
   ]
  },
  {
   "cell_type": "code",
   "execution_count": null,
   "metadata": {},
   "outputs": [],
   "source": [
    "#scale the data\n",
    "scalar = StandardScaler()\n",
    "X_train_scale = scalar.fit_transform(X_new)\n",
    "X_test_scale = scalar.transform(X_test)"
   ]
  },
  {
   "cell_type": "code",
   "execution_count": null,
   "metadata": {},
   "outputs": [],
   "source": [
    "## Split into training and validation set\n",
    "train_x, validation_x, train_y, validation_y = \\\n",
    "    train_test_split(X_train_scale, Y_new, test_size=.20, random_state=66)"
   ]
  },
  {
   "cell_type": "markdown",
   "metadata": {},
   "source": [
    "## Regression Model"
   ]
  },
  {
   "cell_type": "markdown",
   "metadata": {},
   "source": [
    "### Pipeline"
   ]
  },
  {
   "cell_type": "code",
   "execution_count": null,
   "metadata": {},
   "outputs": [],
   "source": [
    "def Pipeline(model, train_X, train_y, test_X, test_y=None, grid_run=0, grid_param={}):\n",
    "    if grid_run == 1:\n",
    "        model = GridSearchCV(estimator=model,\n",
    "                            param_grid=grid_param,\n",
    "                            cv=5, verbose = 1,\n",
    "                            n_jobs=-1, scoring=\"neg_mean_absolute_error\")\n",
    "    model.fit(train_X, train_y)\n",
    "    pred_y = model.predict(test_X)\n",
    "    mae = 0.0\n",
    "    if test_y is not None:\n",
    "        mae = metrics.mean_absolute_error(test_y , pred_y)\n",
    "    if grid_run == 1:\n",
    "        print(\"Tuned hyperparameters :(best parameters) \",model.best_params_)\n",
    "        model = model.best_estimator_\n",
    "\n",
    "    print(type(model).__name__)\n",
    "    print(f\"Mean Absolute Error: {mae}\\n\")\n",
    "\n",
    "    return model, mae"
   ]
  },
  {
   "cell_type": "markdown",
   "metadata": {},
   "source": [
    "### Default models comparisons"
   ]
  },
  {
   "cell_type": "code",
   "execution_count": null,
   "metadata": {},
   "outputs": [
    {
     "name": "stdout",
     "output_type": "stream",
     "text": [
      "LinearRegression\n",
      "Mean Absolute Error: 0.8130804096823774\n",
      "\n",
      "Ridge\n",
      "Mean Absolute Error: 0.8127883843017288\n",
      "\n",
      "Lasso\n",
      "Mean Absolute Error: 1.2570136559786744\n",
      "\n",
      "SVR\n",
      "Mean Absolute Error: 0.6541146837048283\n",
      "\n",
      "RandomForestRegressor\n",
      "Mean Absolute Error: 0.5951908325259494\n",
      "\n",
      "XGBRegressor\n",
      "Mean Absolute Error: 0.5821311576811616\n",
      "\n",
      "GradientBoostingRegressor\n",
      "Mean Absolute Error: 0.6861992563867895\n",
      "\n"
     ]
    }
   ],
   "source": [
    "## Default Models\n",
    "# Linear, Ridge, Lasso Regression\n",
    "_, mae_lin = Pipeline(LinearRegression(), train_x, train_y, validation_x, validation_y, 0, {})\n",
    "_, mae_ridge = Pipeline(Ridge(), train_x, train_y, validation_x, validation_y, 0, {})\n",
    "_, mae_lasso = Pipeline(Lasso(), train_x, train_y, validation_x, validation_y, 0, {})\n",
    "\n",
    "# SVR\n",
    "_, mae_svr = Pipeline(SVR(), train_x, train_y, validation_x, validation_y, 0, {})\n",
    "\n",
    "# Random forest\n",
    "_, mae_rf = Pipeline(RandomForestRegressor(), train_x, train_y, validation_x, validation_y, 0, {})\n",
    "\n",
    "# XGBoost\n",
    "_, mae_xgb = Pipeline(XGBRegressor(), train_x, train_y, validation_x, validation_y, 0, {})\n",
    "\n",
    "# GBM\n",
    "_, mae_gbm = Pipeline(GradientBoostingRegressor(), train_x, train_y, validation_x, validation_y, 0, {})"
   ]
  },
  {
   "cell_type": "markdown",
   "metadata": {},
   "source": [
    "## Fine-tuning models with Grid Search"
   ]
  },
  {
   "cell_type": "markdown",
   "metadata": {},
   "source": [
    "#### SVR"
   ]
  },
  {
   "cell_type": "code",
   "execution_count": null,
   "metadata": {},
   "outputs": [
    {
     "name": "stdout",
     "output_type": "stream",
     "text": [
      "Fitting 5 folds for each of 12 candidates, totalling 60 fits\n",
      "Tuned hyperparameters :(best parameters)  {'C': 10, 'epsilon': 0.1}\n",
      "SVR\n",
      "Mean Absolute Error: 0.6056060636393861\n",
      "\n"
     ]
    }
   ],
   "source": [
    "# SVR with grid search\n",
    "param_grid = {\n",
    "    'C': [0.1, 1, 10, 100],  # Regularization parameter\n",
    "    'epsilon': [0.01, 0.1, 1],  # Epsilon in the epsilon-SVR model\n",
    "}\n",
    "\n",
    "best_svr_model, mae_svr_grid = Pipeline(SVR(kernel='rbf'), train_x, train_y, validation_x, validation_y, 1, param_grid)"
   ]
  },
  {
   "cell_type": "markdown",
   "metadata": {},
   "source": [
    "#### Random Forest"
   ]
  },
  {
   "cell_type": "code",
   "execution_count": null,
   "metadata": {},
   "outputs": [
    {
     "name": "stdout",
     "output_type": "stream",
     "text": [
      "Fitting 5 folds for each of 96 candidates, totalling 480 fits\n",
      "Tuned hyperparameters :(best parameters)  {'max_depth': None, 'max_features': 'sqrt', 'min_samples_split': 2, 'n_estimators': 500}\n",
      "RandomForestRegressor\n",
      "Mean Absolute Error: 0.5929114571882979\n",
      "\n"
     ]
    }
   ],
   "source": [
    "param_grid = {\n",
    "    'n_estimators': [200, 300, 400, 500],  # Number of trees in the forest\n",
    "    'max_depth': [None, 10, 20, 30],  # Maximum depth of trees\n",
    "    'min_samples_split': [2, 5, 10],  # Minimum samples required to split an internal node\n",
    "    'max_features': [\"sqrt\",\"log2\"]\n",
    "}\n",
    "\n",
    "best_rf_model, mae_rf_grid = Pipeline(RandomForestRegressor(random_state=42), train_x, train_y, validation_x, validation_y, 1, param_grid)"
   ]
  },
  {
   "cell_type": "markdown",
   "metadata": {},
   "source": [
    "#### GBM"
   ]
  },
  {
   "cell_type": "code",
   "execution_count": null,
   "metadata": {},
   "outputs": [
    {
     "name": "stdout",
     "output_type": "stream",
     "text": [
      "Fitting 5 folds for each of 54 candidates, totalling 270 fits\n",
      "Tuned hyperparameters :(best parameters)  {'learning_rate': 0.2, 'max_depth': 5, 'min_samples_leaf': 1, 'n_estimators': 300}\n",
      "GradientBoostingRegressor\n",
      "Mean Absolute Error: 0.5835331555951866\n",
      "\n"
     ]
    }
   ],
   "source": [
    "param_grid = {\n",
    "    'n_estimators': [100, 200, 300],\n",
    "    'learning_rate': [0.01, 0.1, 0.2],\n",
    "    'max_depth': [3, 4, 5],\n",
    "    #'min_samples_split': [2, 4],\n",
    "    'min_samples_leaf': [1, 2]\n",
    "}\n",
    "\n",
    "best_gbm_model, mae_gbm_grid = Pipeline(GradientBoostingRegressor(random_state=42), train_x, train_y, validation_x, validation_y, 1, param_grid)"
   ]
  },
  {
   "cell_type": "markdown",
   "metadata": {},
   "source": [
    "#### XGBoost"
   ]
  },
  {
   "cell_type": "code",
   "execution_count": null,
   "metadata": {},
   "outputs": [
    {
     "name": "stdout",
     "output_type": "stream",
     "text": [
      "Fitting 5 folds for each of 18 candidates, totalling 90 fits\n",
      "Tuned hyperparameters :(best parameters)  {'colsample_bytree': 0.3, 'learning_rate': 0.05, 'max_depth': 5}\n",
      "XGBRegressor\n",
      "Mean Absolute Error: 0.5277638239835968\n",
      "\n"
     ]
    }
   ],
   "source": [
    "param_grid = {\n",
    "    'learning_rate': [0.01, 0.05, 0.1],\n",
    "    'max_depth': [3, 4, 5],\n",
    "    'colsample_bytree': [0.3, 0.7]\n",
    "}\n",
    "\n",
    "best_xgb_model, mae_xgb_grid = Pipeline(XGBRegressor(objective=\"reg:squarederror\",n_estimators = 5000,eval_metric=\"mae\"), train_x, train_y, validation_x, validation_y, 1, param_grid)"
   ]
  },
  {
   "cell_type": "markdown",
   "metadata": {},
   "source": [
    "### Stacking"
   ]
  },
  {
   "cell_type": "code",
   "execution_count": null,
   "metadata": {},
   "outputs": [
    {
     "name": "stdout",
     "output_type": "stream",
     "text": [
      "Mean Absolute Error:  0.5253086998161718\n"
     ]
    }
   ],
   "source": [
    "level0 = list()\n",
    "level0.append(('rf', best_rf_model))\n",
    "level0.append(('xgb', best_xgb_model))\n",
    "level0.append(('svr', best_svr_model))\n",
    "\n",
    "# Meta learner model\n",
    "level1 = best_svr_model\n",
    "\n",
    "model = StackingRegressor(estimators=level0, final_estimator=level1, cv=5)\n",
    "\n",
    "model.fit(train_x, train_y)\n",
    "\n",
    "# Make predictions\n",
    "prediction = model.predict(validation_x)\n",
    "mae_stack = metrics.mean_absolute_error(prediction, validation_y)\n",
    "print(\"Mean Absolute Error: \", mae_stack)"
   ]
  },
  {
   "cell_type": "code",
   "execution_count": null,
   "metadata": {},
   "outputs": [
    {
     "data": {
      "text/html": [
       "<style>#sk-container-id-6 {color: black;background-color: white;}#sk-container-id-6 pre{padding: 0;}#sk-container-id-6 div.sk-toggleable {background-color: white;}#sk-container-id-6 label.sk-toggleable__label {cursor: pointer;display: block;width: 100%;margin-bottom: 0;padding: 0.3em;box-sizing: border-box;text-align: center;}#sk-container-id-6 label.sk-toggleable__label-arrow:before {content: \"▸\";float: left;margin-right: 0.25em;color: #696969;}#sk-container-id-6 label.sk-toggleable__label-arrow:hover:before {color: black;}#sk-container-id-6 div.sk-estimator:hover label.sk-toggleable__label-arrow:before {color: black;}#sk-container-id-6 div.sk-toggleable__content {max-height: 0;max-width: 0;overflow: hidden;text-align: left;background-color: #f0f8ff;}#sk-container-id-6 div.sk-toggleable__content pre {margin: 0.2em;color: black;border-radius: 0.25em;background-color: #f0f8ff;}#sk-container-id-6 input.sk-toggleable__control:checked~div.sk-toggleable__content {max-height: 200px;max-width: 100%;overflow: auto;}#sk-container-id-6 input.sk-toggleable__control:checked~label.sk-toggleable__label-arrow:before {content: \"▾\";}#sk-container-id-6 div.sk-estimator input.sk-toggleable__control:checked~label.sk-toggleable__label {background-color: #d4ebff;}#sk-container-id-6 div.sk-label input.sk-toggleable__control:checked~label.sk-toggleable__label {background-color: #d4ebff;}#sk-container-id-6 input.sk-hidden--visually {border: 0;clip: rect(1px 1px 1px 1px);clip: rect(1px, 1px, 1px, 1px);height: 1px;margin: -1px;overflow: hidden;padding: 0;position: absolute;width: 1px;}#sk-container-id-6 div.sk-estimator {font-family: monospace;background-color: #f0f8ff;border: 1px dotted black;border-radius: 0.25em;box-sizing: border-box;margin-bottom: 0.5em;}#sk-container-id-6 div.sk-estimator:hover {background-color: #d4ebff;}#sk-container-id-6 div.sk-parallel-item::after {content: \"\";width: 100%;border-bottom: 1px solid gray;flex-grow: 1;}#sk-container-id-6 div.sk-label:hover label.sk-toggleable__label {background-color: #d4ebff;}#sk-container-id-6 div.sk-serial::before {content: \"\";position: absolute;border-left: 1px solid gray;box-sizing: border-box;top: 0;bottom: 0;left: 50%;z-index: 0;}#sk-container-id-6 div.sk-serial {display: flex;flex-direction: column;align-items: center;background-color: white;padding-right: 0.2em;padding-left: 0.2em;position: relative;}#sk-container-id-6 div.sk-item {position: relative;z-index: 1;}#sk-container-id-6 div.sk-parallel {display: flex;align-items: stretch;justify-content: center;background-color: white;position: relative;}#sk-container-id-6 div.sk-item::before, #sk-container-id-6 div.sk-parallel-item::before {content: \"\";position: absolute;border-left: 1px solid gray;box-sizing: border-box;top: 0;bottom: 0;left: 50%;z-index: -1;}#sk-container-id-6 div.sk-parallel-item {display: flex;flex-direction: column;z-index: 1;position: relative;background-color: white;}#sk-container-id-6 div.sk-parallel-item:first-child::after {align-self: flex-end;width: 50%;}#sk-container-id-6 div.sk-parallel-item:last-child::after {align-self: flex-start;width: 50%;}#sk-container-id-6 div.sk-parallel-item:only-child::after {width: 0;}#sk-container-id-6 div.sk-dashed-wrapped {border: 1px dashed gray;margin: 0 0.4em 0.5em 0.4em;box-sizing: border-box;padding-bottom: 0.4em;background-color: white;}#sk-container-id-6 div.sk-label label {font-family: monospace;font-weight: bold;display: inline-block;line-height: 1.2em;}#sk-container-id-6 div.sk-label-container {text-align: center;}#sk-container-id-6 div.sk-container {/* jupyter's `normalize.less` sets `[hidden] { display: none; }` but bootstrap.min.css set `[hidden] { display: none !important; }` so we also need the `!important` here to be able to override the default hidden behavior on the sphinx rendered scikit-learn.org. See: https://github.com/scikit-learn/scikit-learn/issues/21755 */display: inline-block !important;position: relative;}#sk-container-id-6 div.sk-text-repr-fallback {display: none;}</style><div id=\"sk-container-id-6\" class=\"sk-top-container\"><div class=\"sk-text-repr-fallback\"><pre>StackingRegressor(cv=5,\n",
       "                  estimators=[(&#x27;rf&#x27;,\n",
       "                               RandomForestRegressor(max_features=&#x27;sqrt&#x27;,\n",
       "                                                     n_estimators=500,\n",
       "                                                     random_state=42)),\n",
       "                              (&#x27;xgb&#x27;,\n",
       "                               XGBRegressor(base_score=None, booster=None,\n",
       "                                            callbacks=None,\n",
       "                                            colsample_bylevel=None,\n",
       "                                            colsample_bynode=None,\n",
       "                                            colsample_bytree=0.3, device=None,\n",
       "                                            early_stopping_rounds=None,\n",
       "                                            enable_categorical=False,\n",
       "                                            eval_metric=&#x27;mae&#x27;,\n",
       "                                            feature_types=None, g...\n",
       "                                            interaction_constraints=None,\n",
       "                                            learning_rate=0.1, max_bin=None,\n",
       "                                            max_cat_threshold=None,\n",
       "                                            max_cat_to_onehot=None,\n",
       "                                            max_delta_step=None, max_depth=5,\n",
       "                                            max_leaves=None,\n",
       "                                            min_child_weight=None, missing=nan,\n",
       "                                            monotone_constraints=None,\n",
       "                                            multi_strategy=None,\n",
       "                                            n_estimators=1000, n_jobs=None,\n",
       "                                            num_parallel_tree=None,\n",
       "                                            random_state=None, ...)),\n",
       "                              (&#x27;svr&#x27;, SVR(C=10))],\n",
       "                  final_estimator=SVR(C=10))</pre><b>In a Jupyter environment, please rerun this cell to show the HTML representation or trust the notebook. <br />On GitHub, the HTML representation is unable to render, please try loading this page with nbviewer.org.</b></div><div class=\"sk-container\" hidden><div class=\"sk-item sk-dashed-wrapped\"><div class=\"sk-label-container\"><div class=\"sk-label sk-toggleable\"><input class=\"sk-toggleable__control sk-hidden--visually\" id=\"sk-estimator-id-8\" type=\"checkbox\" ><label for=\"sk-estimator-id-8\" class=\"sk-toggleable__label sk-toggleable__label-arrow\">StackingRegressor</label><div class=\"sk-toggleable__content\"><pre>StackingRegressor(cv=5,\n",
       "                  estimators=[(&#x27;rf&#x27;,\n",
       "                               RandomForestRegressor(max_features=&#x27;sqrt&#x27;,\n",
       "                                                     n_estimators=500,\n",
       "                                                     random_state=42)),\n",
       "                              (&#x27;xgb&#x27;,\n",
       "                               XGBRegressor(base_score=None, booster=None,\n",
       "                                            callbacks=None,\n",
       "                                            colsample_bylevel=None,\n",
       "                                            colsample_bynode=None,\n",
       "                                            colsample_bytree=0.3, device=None,\n",
       "                                            early_stopping_rounds=None,\n",
       "                                            enable_categorical=False,\n",
       "                                            eval_metric=&#x27;mae&#x27;,\n",
       "                                            feature_types=None, g...\n",
       "                                            interaction_constraints=None,\n",
       "                                            learning_rate=0.1, max_bin=None,\n",
       "                                            max_cat_threshold=None,\n",
       "                                            max_cat_to_onehot=None,\n",
       "                                            max_delta_step=None, max_depth=5,\n",
       "                                            max_leaves=None,\n",
       "                                            min_child_weight=None, missing=nan,\n",
       "                                            monotone_constraints=None,\n",
       "                                            multi_strategy=None,\n",
       "                                            n_estimators=1000, n_jobs=None,\n",
       "                                            num_parallel_tree=None,\n",
       "                                            random_state=None, ...)),\n",
       "                              (&#x27;svr&#x27;, SVR(C=10))],\n",
       "                  final_estimator=SVR(C=10))</pre></div></div></div><div class=\"sk-serial\"><div class=\"sk-item\"><div class=\"sk-parallel\"><div class=\"sk-parallel-item\"><div class=\"sk-item\"><div class=\"sk-label-container\"><div class=\"sk-label sk-toggleable\"><label>rf</label></div></div><div class=\"sk-serial\"><div class=\"sk-item\"><div class=\"sk-estimator sk-toggleable\"><input class=\"sk-toggleable__control sk-hidden--visually\" id=\"sk-estimator-id-9\" type=\"checkbox\" ><label for=\"sk-estimator-id-9\" class=\"sk-toggleable__label sk-toggleable__label-arrow\">RandomForestRegressor</label><div class=\"sk-toggleable__content\"><pre>RandomForestRegressor(max_features=&#x27;sqrt&#x27;, n_estimators=500, random_state=42)</pre></div></div></div></div></div></div><div class=\"sk-parallel-item\"><div class=\"sk-item\"><div class=\"sk-label-container\"><div class=\"sk-label sk-toggleable\"><label>xgb</label></div></div><div class=\"sk-serial\"><div class=\"sk-item\"><div class=\"sk-estimator sk-toggleable\"><input class=\"sk-toggleable__control sk-hidden--visually\" id=\"sk-estimator-id-10\" type=\"checkbox\" ><label for=\"sk-estimator-id-10\" class=\"sk-toggleable__label sk-toggleable__label-arrow\">XGBRegressor</label><div class=\"sk-toggleable__content\"><pre>XGBRegressor(base_score=None, booster=None, callbacks=None,\n",
       "             colsample_bylevel=None, colsample_bynode=None,\n",
       "             colsample_bytree=0.3, device=None, early_stopping_rounds=None,\n",
       "             enable_categorical=False, eval_metric=&#x27;mae&#x27;, feature_types=None,\n",
       "             gamma=None, grow_policy=None, importance_type=None,\n",
       "             interaction_constraints=None, learning_rate=0.1, max_bin=None,\n",
       "             max_cat_threshold=None, max_cat_to_onehot=None,\n",
       "             max_delta_step=None, max_depth=5, max_leaves=None,\n",
       "             min_child_weight=None, missing=nan, monotone_constraints=None,\n",
       "             multi_strategy=None, n_estimators=1000, n_jobs=None,\n",
       "             num_parallel_tree=None, random_state=None, ...)</pre></div></div></div></div></div></div><div class=\"sk-parallel-item\"><div class=\"sk-item\"><div class=\"sk-label-container\"><div class=\"sk-label sk-toggleable\"><label>svr</label></div></div><div class=\"sk-serial\"><div class=\"sk-item\"><div class=\"sk-estimator sk-toggleable\"><input class=\"sk-toggleable__control sk-hidden--visually\" id=\"sk-estimator-id-11\" type=\"checkbox\" ><label for=\"sk-estimator-id-11\" class=\"sk-toggleable__label sk-toggleable__label-arrow\">SVR</label><div class=\"sk-toggleable__content\"><pre>SVR(C=10)</pre></div></div></div></div></div></div></div></div><div class=\"sk-item\"><div class=\"sk-parallel\"><div class=\"sk-parallel-item\"><div class=\"sk-item\"><div class=\"sk-label-container\"><div class=\"sk-label sk-toggleable\"><label>final_estimator</label></div></div><div class=\"sk-serial\"><div class=\"sk-item\"><div class=\"sk-estimator sk-toggleable\"><input class=\"sk-toggleable__control sk-hidden--visually\" id=\"sk-estimator-id-12\" type=\"checkbox\" ><label for=\"sk-estimator-id-12\" class=\"sk-toggleable__label sk-toggleable__label-arrow\">SVR</label><div class=\"sk-toggleable__content\"><pre>SVR(C=10)</pre></div></div></div></div></div></div></div></div></div></div></div></div>"
      ],
      "text/plain": [
       "StackingRegressor(cv=5,\n",
       "                  estimators=[('rf',\n",
       "                               RandomForestRegressor(max_features='sqrt',\n",
       "                                                     n_estimators=500,\n",
       "                                                     random_state=42)),\n",
       "                              ('xgb',\n",
       "                               XGBRegressor(base_score=None, booster=None,\n",
       "                                            callbacks=None,\n",
       "                                            colsample_bylevel=None,\n",
       "                                            colsample_bynode=None,\n",
       "                                            colsample_bytree=0.3, device=None,\n",
       "                                            early_stopping_rounds=None,\n",
       "                                            enable_categorical=False,\n",
       "                                            eval_metric='mae',\n",
       "                                            feature_types=None, g...\n",
       "                                            interaction_constraints=None,\n",
       "                                            learning_rate=0.1, max_bin=None,\n",
       "                                            max_cat_threshold=None,\n",
       "                                            max_cat_to_onehot=None,\n",
       "                                            max_delta_step=None, max_depth=5,\n",
       "                                            max_leaves=None,\n",
       "                                            min_child_weight=None, missing=nan,\n",
       "                                            monotone_constraints=None,\n",
       "                                            multi_strategy=None,\n",
       "                                            n_estimators=1000, n_jobs=None,\n",
       "                                            num_parallel_tree=None,\n",
       "                                            random_state=None, ...)),\n",
       "                              ('svr', SVR(C=10))],\n",
       "                  final_estimator=SVR(C=10))"
      ]
     },
     "execution_count": 63,
     "metadata": {},
     "output_type": "execute_result"
    }
   ],
   "source": [
    "model"
   ]
  },
  {
   "cell_type": "markdown",
   "metadata": {},
   "source": [
    "### Blending"
   ]
  },
  {
   "cell_type": "code",
   "execution_count": null,
   "metadata": {},
   "outputs": [
    {
     "name": "stdout",
     "output_type": "stream",
     "text": [
      "Mean Absolute Error:  0.5556714952522378\n"
     ]
    }
   ],
   "source": [
    "train_x_base, train_x_meta, train_y_base, train_y_meta = train_test_split(train_x, train_y, test_size=0.2, random_state=42)\n",
    "rf_model = best_rf_model.fit(train_x_base, train_y_base)\n",
    "xgb_model = best_xgb_model.fit(train_x_base, train_y_base)\n",
    "svr_model = best_svr_model.fit(train_x_base, train_y_base)\n",
    "\n",
    "# Predict on holdout set\n",
    "rf_pred = rf_model.predict(train_x_meta)\n",
    "xgb_pred = xgb_model.predict(train_x_meta)\n",
    "svr_pred = svr_model.predict(train_x_meta)\n",
    "\n",
    "# Create new feature set for the blender model\n",
    "blended_features = np.column_stack((rf_pred, xgb_pred, svr_pred))\n",
    "\n",
    "# Train the blender model\n",
    "blender = SVR().fit(blended_features, train_y_meta)\n",
    "\n",
    "# Predict on test set\n",
    "rf_test_pred = rf_model.predict(validation_x)\n",
    "xgb_test_pred = xgb_model.predict(validation_x)\n",
    "svr_test_pred = svr_model.predict(validation_x)\n",
    "\n",
    "# Create blended test features\n",
    "blended_test_features = np.column_stack((rf_test_pred, xgb_test_pred, svr_test_pred))\n",
    "\n",
    "# Make final predictions\n",
    "final_predictions = blender.predict(blended_test_features)\n",
    "\n",
    "\n",
    "mae_blend = metrics.mean_absolute_error(final_predictions , validation_y)\n",
    "print(\"Mean Absolute Error: \", mae_blend)"
   ]
  },
  {
   "cell_type": "markdown",
   "metadata": {},
   "source": [
    "## Output Y prediction into CSV"
   ]
  },
  {
   "cell_type": "markdown",
   "metadata": {},
   "source": [
    "The XGBoost and Stacking model are the top 2 models that has lowest MAE scores."
   ]
  },
  {
   "cell_type": "code",
   "execution_count": null,
   "metadata": {},
   "outputs": [],
   "source": [
    "def output_file(model):\n",
    "  model.fit(X_train_scale,Y_new)\n",
    "  Y_test = model.predict(X_test_scale)\n",
    "  data = {'Id': ID,\n",
    "        'Egap': Y_test}\n",
    "  df = pd.DataFrame(data)\n",
    "  #df.to_csv('out.csv',index=False)\n",
    "  return df"
   ]
  },
  {
   "cell_type": "code",
   "execution_count": null,
   "metadata": {},
   "outputs": [],
   "source": [
    "df_xgb = output_file(best_xgb_model)\n",
    "df_xgb.to_csv('xgboost.csv',index=False)\n",
    "\n",
    "df_stack = output_file(model)\n",
    "df_stack.to_csv('stack_model.csv',index=False)"
   ]
  },
  {
   "cell_type": "code",
   "execution_count": null,
   "metadata": {},
   "outputs": [],
   "source": []
  }
 ],
 "metadata": {
  "kernelspec": {
   "display_name": "base",
   "language": "python",
   "name": "python3"
  },
  "language_info": {
   "codemirror_mode": {
    "name": "ipython",
    "version": 3
   },
   "file_extension": ".py",
   "mimetype": "text/x-python",
   "name": "python",
   "nbconvert_exporter": "python",
   "pygments_lexer": "ipython3",
   "version": "3.9.7"
  }
 },
 "nbformat": 4,
 "nbformat_minor": 2
}
